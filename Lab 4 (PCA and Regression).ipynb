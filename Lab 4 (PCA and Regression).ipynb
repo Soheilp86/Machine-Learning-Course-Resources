{
 "cells": [
  {
   "cell_type": "markdown",
   "id": "f22c83e1",
   "metadata": {},
   "source": [
    "# Lab 4 (House Prices - PCA and Regression Techniques)\n",
    "\n",
    "In this lab you predict sales prices and practice feature engineering. \n"
   ]
  },
  {
   "cell_type": "markdown",
   "id": "cc9592f3",
   "metadata": {},
   "source": [
    "## Introduction:\n",
    "\n",
    "In this lab, you will work with a dataset that describes various aspects of residential homes in Ames, Iowa. The objective is to develop a regression model that accurately predicts the prices of each home based on a set of 79 explanatory variables. Your goal is to consider a wide range of factors that impact house prices, and it's worth noting that this dataset is used as part of an ongoing Kaggle competition.\n",
    "\n",
    "__Step 1 (Data Loading):__ Start by accessing the dataset on the [Kaggle competition page](https://www.kaggle.com/competitions/house-prices-advanced-regression-techniques/data) and carefully read the data description to familiarize yourself with its contents.\n",
    "\n",
    "__Step 2 (Data Engineering):__ This step involves various data preprocessing tasks, including data cleaning, one-hot encoding, handling missing values (NaNs), and addressing any negative infinity (-inf) values in the dataset.\n",
    "\n",
    "__Step 3 (Dimension Reduction):__ Here, you will explore dimension reduction techniques with Principal Component Analysis (PCA) being one of the potential choices, to reduce the number of features while preserving as much information as possible.\n",
    "\n",
    "__Step 4 (Model Selection):__ Use Linear Regression to model and predict the sales value!\n",
    "\n"
   ]
  },
  {
   "cell_type": "code",
   "execution_count": null,
   "id": "3ab4877d",
   "metadata": {},
   "outputs": [],
   "source": [
    "##Setp 1\n",
    "#### how many data points do you have? \n",
    "#### how many variables (features) do you have?\n",
    "#### how many of these variables are categorical? \n",
    "#### How many NaNs each column has? "
   ]
  },
  {
   "cell_type": "markdown",
   "id": "94b19da1",
   "metadata": {},
   "source": [
    "__Step 2:__\n",
    "\n",
    "1. Identifying and Removing Irrelevant Features: Features with a substantial number of missing values may not significantly contribute to our future model. Therefore, we need to identify and remove such features before addressing the NaNs.\n",
    "\n",
    "2. Handling Missing Data and Categorical Variables: To prepare the dataset for modeling, we must address missing information (NaNs) and convert categorical variables into a numerical format to create a numerical dataset (matrix).\n",
    "\n",
    "3. Data Split: It's worth noting that the dataset is already divided into test and train sets. We can combine them so we dont have to apply preprocessing twice. \n"
   ]
  },
  {
   "cell_type": "code",
   "execution_count": 1,
   "id": "097eb31a",
   "metadata": {},
   "outputs": [],
   "source": [
    "## Step 2: Data Preprocessing\n",
    "\n",
    "### Column Removal: From Step 1, we have information about how many NaNs each column contains.\n",
    "### You will now remove columns with a substantial number of missing values.\n",
    "### Handling Missing Values:\n",
    "### For the remaining columns, we have several options to handle missing values:\n",
    "### Replace NaNs with (1) zeros, (2)the column average, or (3) he row average if appropriate for your analysis.\n",
    "### Discuss which one do you wanna choose. \n",
    "### Check for any occurrences of -inf values in the dataset and replace them with zeros.\n",
    "### How do you handel Categorical Variables? You can remove them or convert them to numeric values. Discuss this!"
   ]
  },
  {
   "cell_type": "markdown",
   "id": "83e3fecb",
   "metadata": {},
   "source": [
    "__Step 3 (Feature Reduction):__\n",
    "In steps 1 and 2, we've already reduced dimensionality by removing certain features. Now, applying Principal Component Analysis (PCA) will further reduce the number of features, enhancing your model's accuracy. Take a moment and think what does PCA do and why it is appropreate here.\n"
   ]
  },
  {
   "cell_type": "code",
   "execution_count": 2,
   "id": "0359d282",
   "metadata": {},
   "outputs": [],
   "source": [
    "## Step 3 (PCA)"
   ]
  },
  {
   "cell_type": "markdown",
   "id": "6184c706",
   "metadata": {},
   "source": [
    "Apply a linear regression model in this step and assess how accurately your model predicts the test values."
   ]
  },
  {
   "cell_type": "code",
   "execution_count": 3,
   "id": "1a534faa",
   "metadata": {},
   "outputs": [],
   "source": [
    "## Step 4: Applying Linear Regression\n",
    "\n"
   ]
  },
  {
   "cell_type": "code",
   "execution_count": null,
   "id": "5b94888e",
   "metadata": {},
   "outputs": [],
   "source": []
  }
 ],
 "metadata": {
  "kernelspec": {
   "display_name": "Python 3",
   "language": "python",
   "name": "python3"
  },
  "language_info": {
   "codemirror_mode": {
    "name": "ipython",
    "version": 3
   },
   "file_extension": ".py",
   "mimetype": "text/x-python",
   "name": "python",
   "nbconvert_exporter": "python",
   "pygments_lexer": "ipython3",
   "version": "3.8.5"
  }
 },
 "nbformat": 4,
 "nbformat_minor": 5
}
