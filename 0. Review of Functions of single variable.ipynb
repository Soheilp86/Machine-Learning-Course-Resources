{
 "cells": [
  {
   "cell_type": "markdown",
   "id": "d32bd94e",
   "metadata": {},
   "source": [
    "# Review of Calculus 1\n",
    "\n",
    "This lab reviews some needed ideas from calculs 1. We will cover\n",
    "\n",
    "1- Derivatives, \n",
    "\n",
    "2- Linear Approximation, \n",
    "\n",
    "3- Approximations using Taylor series\n"
   ]
  },
  {
   "cell_type": "markdown",
   "id": "756fb050",
   "metadata": {},
   "source": [
    "## Derivatives"
   ]
  },
  {
   "cell_type": "markdown",
   "id": "2693bc16",
   "metadata": {},
   "source": [
    "Derivative is the rate of change in a function with respect to changes in its variables. Derivatives can tell us how rapidly a function increase or decrease if we increase or decrease each variable by a small amount. \n",
    "\n",
    "Formally,suppose $f:\\mathbb{R}\\to \\mathbb{R}$ is a function. The __derivative of $\\boldsymbol{f(x)}$ with respect to $x$__, is defined as \n",
    "\n",
    "$$f\\,'(x)=\\lim\\limits_{h\\to 0}\\dfrac{f(x+h)-f(x)}{h}$$\n",
    "\n",
    "If derivative $f\\,'(x)$ exists at all point in the interval $(a,b)$, then $f(x)$ is said to be __differentiable__ in $(a,b)$.\n",
    "\n",
    "The derivative of $f$ at $x = a$ can be interpreted as the slope of the tangent line at $(a,f(a))$ on the graph of the function $f$. If $f$ is increasing (decreasing) on some interval, then the slope of the tangent is positive (negative) at each point of that interval, and hence, the derivative of the function is positive (negative). \n",
    "\n",
    "The most common notations for derivitive of a function $f$ were introduced by Lagrange and Leibniz:\n",
    "\n",
    "- Lagrange: $f'(x),f^{(2)}(x),f^{(3)}(x), \\ldots$\n",
    "\n",
    "- Leibniz: $\\dfrac{df}{dx}, \\dfrac{d^2f}{dx^2}, \\dfrac{d^3f}{dx^3}, \\ldots$\n"
   ]
  },
  {
   "cell_type": "markdown",
   "id": "33cec886",
   "metadata": {},
   "source": [
    "__Example 1__ Let $f(x) = 2x^3 -2x$. Plug in small numbers in $\\dfrac{f(0+h)-f(0)}{h}$ to guess the value of $f'(1)$."
   ]
  },
  {
   "cell_type": "code",
   "execution_count": 42,
   "id": "cf84f49a",
   "metadata": {},
   "outputs": [
    {
     "name": "stdout",
     "output_type": "stream",
     "text": [
      "h = 0.10000, limit = -1.98000\n",
      "h = 0.01000, limit = -1.99980\n",
      "h = 0.00100, limit = -2.00000\n",
      "h = 0.00010, limit = -2.00000\n",
      "h = 0.00001, limit = -2.00000\n"
     ]
    }
   ],
   "source": [
    "import numpy as np\n",
    "\n",
    "def f(x):\n",
    "    return 2*x ** 3 - 2 * x\n",
    "\n",
    "#setting x =1\n",
    "x = 0\n",
    "\n",
    "for h in 10.0**np.arange(-1, -6, -1):# a list of small numbers of h\n",
    "    limit = (f(x+h)-f(x))/h\n",
    "    print(f'h = {h:.5f}, limit = {limit:.5f}') # {:.5} specifies the level of precision\n",
    "    "
   ]
  },
  {
   "cell_type": "markdown",
   "id": "6d776edb",
   "metadata": {},
   "source": [
    "We can see that as we decrease the value of $h$ the limit approaches $-2$. "
   ]
  },
  {
   "cell_type": "code",
   "execution_count": 43,
   "id": "15dda986",
   "metadata": {},
   "outputs": [
    {
     "data": {
      "image/png": "[encoded data removed]",
      "text/plain": [
       "<Figure size 432x288 with 1 Axes>"
      ]
     },
     "metadata": {
      "needs_background": "light"
     },
     "output_type": "display_data"
    }
   ],
   "source": [
    "import numpy as np\n",
    "import matplotlib.pyplot as plt\n",
    "\n",
    "# Define the tangent line at x = 0\n",
    "def tangent_line(x):\n",
    "    return -2 * x  # The tangent line at x = 0 is the x-axis\n",
    "\n",
    "# Create a range of x values\n",
    "x_vals = np.linspace(-2, 2, 400)\n",
    "\n",
    "# Calculate the function values and tangent line values\n",
    "y_vals = f(x_vals)\n",
    "tangent_vals = tangent_line(x_vals)\n",
    "\n",
    "# Create the plot\n",
    "plt.plot(x_vals, y_vals, label='$f(x) = 2x^3 -2x$')\n",
    "plt.plot(x_vals, tangent_vals, label='Tangent Line at $x = 1$')\n",
    "plt.xlabel('x')\n",
    "plt.ylabel('y')\n",
    "plt.title('Plot of $f(x) = 2x^3 -2x$ with Tangent Line at $x = 1$')\n",
    "plt.legend()\n",
    "plt.grid(True)\n",
    "plt.show()\n"
   ]
  },
  {
   "cell_type": "markdown",
   "id": "a1a69121",
   "metadata": {},
   "source": [
    "#### Review of properties of derivatives"
   ]
  },
  {
   "cell_type": "markdown",
   "id": "4a2f7721",
   "metadata": {},
   "source": [
    "\n",
    "1- __Derivative of algebraic operations__\n",
    "\n",
    "- Sum and Difference.<br>\n",
    "    $\\left[f \\pm g\\right]' = f' \\pm g'\\quad\\quad \\text{or} \\quad \\quad \\dfrac{d}{dx}\\left[f \\pm g\\right] = \\dfrac{df}{dx} \\pm \\dfrac{dg}{dx} $ \n",
    "\n",
    "- Scalar Product.<br>\n",
    "    $\\quad \\left[c\\cdot f\\right]' = c\\cdot f' \\quad\\quad \\text{or} \\quad \\quad \\dfrac{d}{dx}\\left[c\\cdot f\\right] = c \\cdot \\dfrac{df}{dx}$\n",
    "\n",
    "- Product Rule:.<br>\n",
    "    $\\quad \\left[f\\cdot g\\right]'=f\\,'\\cdot g+f \\cdot g\\,'$\n",
    "    \n",
    "- Quotient Rule: <br>\n",
    "    $\\left[\\dfrac{f}{g}\\right]' = \\dfrac{f\\,'\\cdot g - f \\cdot g\\,'}{g^2}$\n",
    "    \n",
    "- Chain Rule - for composition of two functions $(f\\circ g)(x) = f(g(x))$: <br>\n",
    "    $\\left[\\left(f \\circ g\\right)(x)\\right]' = f\\,'(g(x))\\cdot g\\,'(x) \\quad\\quad \\text{or} \\quad \\quad \\dfrac{df}{dx}=\\dfrac{df}{dg}\\cdot \\dfrac{dg}{dx}$    \n",
    "\n",
    "\n",
    "\n",
    "2- __Basic Derivative Formulas:__\n",
    "\n",
    "- Constant by itself:<br>\n",
    "    $\\dfrac{d}{dx}\\left[c\\right]= 0$\n",
    "    \n",
    "- Power function: <br>\n",
    "    $\\dfrac{d}{dx}\\left[x^n\\right]= nx^{n-1}$\n",
    "    \n",
    "- Exponential function: <br> \n",
    "    $\\dfrac{d}{dx}\\left[b^x\\right]= b^x\\cdot \\ln(b)$\n",
    "    \n",
    "- Special exponential function when $b=e$: <br>\n",
    "    $\\dfrac{d}{dx}\\left[e^x\\right]= e^x \\cdot \\ln(e)= e^x \\cdot 1= e^x$\n",
    "    \n",
    "- Natural log funcion: <br>\n",
    "    $\\dfrac{d}{dx}\\left[\\ln(x)\\right]= \\dfrac{1}{x}$\n",
    "    \n",
    "- Sine function: <br>\n",
    "    $\\dfrac{d}{dx}\\left[\\sin(x)\\right]= \\cos(x)$\n",
    "    \n",
    "- Cosine function: <br>\n",
    "    $\\dfrac{d}{dx}\\left[\\cos(x)\\right]= -\\sin(x)$\n",
    "\n",
    "\n",
    "__Examople__ Use `sympy` to find the derivative of $f(x) = e^{cos(x)} - 3x^2$. "
   ]
  },
  {
   "cell_type": "code",
   "execution_count": 4,
   "id": "184aac6a",
   "metadata": {},
   "outputs": [
    {
     "name": "stdout",
     "output_type": "stream",
     "text": [
      "-6*x - exp(cos(x))*sin(x)\n"
     ]
    }
   ],
   "source": [
    "import sympy as sp\n",
    "\n",
    "# Define the variable\n",
    "x = sp.symbols('x')\n",
    "\n",
    "# Define the function\n",
    "f = sp.exp(sp.cos(x)) - 3 * x**2\n",
    "\n",
    "# Find the derivative\n",
    "f_prime = sp.diff(f, x)\n",
    "\n",
    "# Print the derivative\n",
    "print(f_prime)"
   ]
  },
  {
   "cell_type": "markdown",
   "id": "1145a71b",
   "metadata": {},
   "source": [
    "## Linear Approximation"
   ]
  },
  {
   "cell_type": "markdown",
   "id": "b3be096b",
   "metadata": {},
   "source": [
    "Let $f:\\mathbb{R}\\to \\mathbb{R}$. A linear approximation of $f$ is a linear function ($L = mx + h$) that approximates $f$. When $f$ is differentionable, finding such approximation is easy: \n",
    "\n",
    "$$\n",
    "f'(a) \\approx \\frac{f(a +h) -f(a)}{h} \\quad \\text{for small values of } h\n",
    "$$\n",
    "\n",
    "Replacing $f'(a)$ with $\\frac{df}{dx}(a)$, and solving for $f(a + h)$, we have\n",
    "\n",
    "$$\n",
    "f(a + h) \\approx f(a) + h \\ \\frac{df}{dx}(a) \\quad \\text{for small values of } h \\quad \n",
    "$$\n",
    "\n",
    "Note that the right hand side is a line which passes through the point $(x, f(x))$ and has slope $\\frac{df}{dx}(x)$. And it approximates the value of $f$. So the derivative gives a linear approximation to the function $f$, as illustrated in __Example 1__."
   ]
  },
  {
   "cell_type": "markdown",
   "id": "248f943d",
   "metadata": {},
   "source": [
    "### Approximations using Taylor series\n",
    "\n",
    "The *Taylor series* provides a method to approximate a function with a polynomial. More formally, if we are given values for the first $n$ derivatives of $f(x)$ at a point $x_0$, i.e., $\\left\\{ f(x_0), f^{(1)}(x_0), f^{(2)}(x_0), \\ldots, f^{(n)}(x_0) \\right\\}$, then, we are looking for a polynomial of degree $n$ that matches all the given derivatives at $x_0$.\n",
    "\n",
    "We saw the case of $n = 1 $ in the previous section which we approximated a function by a line (a polynomial of degree 1). Let's see how we can find such polynomial for an arbitary $n$ using Tylor series.\n",
    "\n",
    "\n",
    "Assume that our function $f$ is infinitely many times differentiable. Then,\n",
    "\n",
    "$$\n",
    "f(x) = \\sum_{i = 0}^{\\infty} \\frac{f^{(i)}(x_0)}{i!}(x-x_0)^{i}.\n",
    "$$\n",
    "\n",
    "Where\n",
    "$$\n",
    "f^{(n)}(x) = \\frac{d^{n}f}{dx^{n}} = \\left(\\frac{d}{dx}\\right)^{n} f.\n",
    "$$\n",
    "\n",
    "From here we just need to cut off the tail of this series at $n$ to get a polynomial of degree $n$ that approximates $f$.\n",
    "\n",
    "For example, when $n = 2$ we have:\n",
    "$$\n",
    "f(x) \\approx \\frac{1}{2}\\frac{d^2f}{dx^2}(x_0)(x-x_0)^{2}+ \\frac{df}{dx}(x_0)(x-x_0) + f(x_0).\n",
    "$$\n",
    "\n",
    "And if $n=3$, we will have\n",
    "\n",
    "$$\n",
    "f(x) \\approx \\frac{\\frac{d^3f}{dx^3}(x_0)}{6}(x-x_0)^3 + \\frac{\\frac{d^2f}{dx^2}(x_0)}{2}(x-x_0)^{2}+ \\frac{df}{dx}(x_0)(x-x_0) + f(x_0).\n",
    "$$\n",
    "\n",
    "\n",
    "Furthermore, we can get a degree $n$ polynomial by\n",
    "\n",
    "$$\n",
    "P_n(x) = \\sum_{i = 0}^{n} \\frac{f^{(i)}(x_0)}{i!}(x-x_0)^{i}.\n",
    "$$\n",
    "\n",
    "where the notation\n",
    "\n",
    "$$\n",
    "f^{(n)}(x) = \\frac{d^{n}f}{dx^{n}} = \\left(\\frac{d}{dx}\\right)^{n} f.\n",
    "$$\n"
   ]
  },
  {
   "cell_type": "markdown",
   "id": "475a4938",
   "metadata": {},
   "source": [
    "__Example 2__ \n",
    "\n",
    "1. Let's $f(x) = \\cos(x)$. \n",
    "\n",
    "\n",
    "- Find a line that approximates $f$ (linear approximation) at $x=0$.\n",
    "\n",
    "- Find a polynomial of degree 2 that approximates $f$ at $x=0$.\n",
    "\n",
    "- Find a polynomial of degree 3 that approximates $f$ at $x=0$.\n",
    "\n",
    "\n",
    "__Answer:__ We use sympy:"
   ]
  },
  {
   "cell_type": "code",
   "execution_count": 44,
   "id": "e2281171",
   "metadata": {},
   "outputs": [],
   "source": [
    "import sympy\n",
    "sympy.init_printing()\n",
    "import numpy\n",
    "import matplotlib.pyplot as plt"
   ]
  },
  {
   "cell_type": "code",
   "execution_count": 45,
   "id": "10e45c31",
   "metadata": {},
   "outputs": [
    {
     "data": {
      "image/png": "[encoded data removed]",
      "text/latex": [
       "$\\displaystyle 1 + O\\left(x\\right)$"
      ],
      "text/plain": [
       "1 + O(x)"
      ]
     },
     "execution_count": 45,
     "metadata": {},
     "output_type": "execute_result"
    }
   ],
   "source": [
    "# defining f\n",
    "x = sympy.symbols('x')\n",
    "f = sympy.cos(x)\n",
    "\n",
    "# Tylor series at x = 0 with the first term  \n",
    "f.series(x, 0, 1)"
   ]
  },
  {
   "cell_type": "code",
   "execution_count": 46,
   "id": "c6b88fa4",
   "metadata": {},
   "outputs": [
    {
     "data": {
      "image/png": "[encoded data removed]",
      "text/latex": [
       "$\\displaystyle 1$"
      ],
      "text/plain": [
       "1"
      ]
     },
     "execution_count": 46,
     "metadata": {},
     "output_type": "execute_result"
    }
   ],
   "source": [
    "# we can also get rid of 0(x)\n",
    "f.series(x, 0, 1).removeO()"
   ]
  },
  {
   "cell_type": "code",
   "execution_count": 47,
   "id": "11589532",
   "metadata": {},
   "outputs": [
    {
     "name": "stdout",
     "output_type": "stream",
     "text": [
      " a polynomial of degree 1 that approximates $f$ at $x=0$ is 1\n",
      " a polynomial of degree 2 that approximates $f$ at $x=0$ is 1\n",
      " a polynomial of degree 3 that approximates $f$ at $x=0$ is 1 - x**2/2\n",
      " a polynomial of degree 4 that approximates $f$ at $x=0$ is 1 - x**2/2\n"
     ]
    }
   ],
   "source": [
    "for i in [1, 2, 3, 4]:\n",
    "    print(f' a polynomial of degree', i ,'that approximates $f$ at $x=0$', 'is', f.series(x, 0, i).removeO())"
   ]
  },
  {
   "cell_type": "markdown",
   "id": "ca681e26",
   "metadata": {},
   "source": [
    "Let’s plot a couple of approximations of $\\cos(x)$:"
   ]
  },
  {
   "cell_type": "code",
   "execution_count": 48,
   "id": "f27e4436",
   "metadata": {},
   "outputs": [
    {
     "data": {
      "image/png": "[encoded data removed]",
      "text/plain": [
       "<Figure size 432x288 with 1 Axes>"
      ]
     },
     "metadata": {
      "needs_background": "light"
     },
     "output_type": "display_data"
    }
   ],
   "source": [
    "p = sympy.plot(f, (x, *(-10, 10)), show=False)\n",
    "colors = ['red', 'green', 'magenta', 'brown']\n",
    "for n, color in enumerate(colors, 1):\n",
    "    approx = f.series(x, 2, n).removeO()\n",
    "    p.extend(sympy.plot(approx, (x, *(-10, 10)),\n",
    "                        line_color=color, show=False))\n",
    "    p[n].label = f'degree: {n-1}'\n",
    "p.ylim = (-4, 4)\n",
    "p.xlim = (-10, 10)\n",
    "p.legend = True\n",
    "p.show()"
   ]
  },
  {
   "cell_type": "markdown",
   "id": "e30a9c80",
   "metadata": {},
   "source": [
    "__Exercise__ Repeat the above example for $g(x) = \\sin(x)$, and $h(x) = \\exp(x^2)$."
   ]
  },
  {
   "cell_type": "markdown",
   "id": "5917ffd1",
   "metadata": {},
   "source": [
    "      Refrences:\n",
    "      \n",
    "  1- https://timothyprojectgig.github.io/JB_Math_Textbook/Undergrad/Calculus/4%20Derivatives.html\n",
    "  \n",
    "  2-Mathematics for Machine Learning\" by Faisal, A. Aldo; Ong, Cheng Soon; and Deisenroth, Marc Peter, Chapter 2 (Vector Calculus), (2020)."
   ]
  },
  {
   "cell_type": "code",
   "execution_count": null,
   "id": "318666b6",
   "metadata": {},
   "outputs": [],
   "source": []
  }
 ],
 "metadata": {
  "kernelspec": {
   "display_name": "Python 3",
   "language": "python",
   "name": "python3"
  },
  "language_info": {
   "codemirror_mode": {
    "name": "ipython",
    "version": 3
   },
   "file_extension": ".py",
   "mimetype": "text/x-python",
   "name": "python",
   "nbconvert_exporter": "python",
   "pygments_lexer": "ipython3",
   "version": "3.8.5"
  }
 },
 "nbformat": 4,
 "nbformat_minor": 5
}
