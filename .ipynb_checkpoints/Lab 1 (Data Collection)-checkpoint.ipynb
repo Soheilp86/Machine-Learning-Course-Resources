{
 "cells": [
  {
   "cell_type": "markdown",
   "id": "b866d2e6",
   "metadata": {},
   "source": [
    "# Lab 1  \n",
    "\n",
    "__Objectives:__\n",
    "\n",
    "1. Introduce the concept of a data repository,\n",
    "\n",
    "2. Introduce pupular data repositories,\n",
    "\n",
    "3. Extracting data from databases\n",
    "\n",
    "4. Exploratory Data Analysis \n",
    "\n"
   ]
  },
  {
   "cell_type": "markdown",
   "id": "0c1446af",
   "metadata": {},
   "source": [
    "## Data Repositories\n",
    "\n",
    "For your final project you need data. You can find good data sources online. The two most popular online sources are:\n",
    "\n",
    "1. Data repositories: These are websites where people upload datasets for various purposes.\n",
    "\n",
    "2. Data competition sites: Platforms where you can access datasets for data science competitions."
   ]
  },
  {
   "cell_type": "markdown",
   "id": "cee0ffe0",
   "metadata": {},
   "source": [
    "## Data Source\n",
    "\n",
    "Here are some websites you can collect your data from:\n",
    "\n",
    "\n",
    "1. [The UC Irvine Machine Learning Repository](https://archive.ics.uci.edu)\n",
    "\n",
    "2. [The Harvard Dataverse](https://dataverse.harvard.edu/)\n",
    "\n",
    "3. [FiveThirtyEight](https://github.com/fivethirtyeight/)\n",
    "\n",
    "4. [NYtimes](https://github.com/nytimes)\n",
    "\n",
    "5. [Kaggle](https://www.kaggle.com)\n",
    "\n",
    "6. [The International Data Analysis Olympiad](https://idao.world/)\n",
    "\n",
    "\n",
    "Check out these links for a few minutes!"
   ]
  },
  {
   "cell_type": "markdown",
   "id": "a155ea17",
   "metadata": {},
   "source": [
    "## Data Extraction\n",
    "Let's see how you can use a repository to access data. Note that I'm not assuming you know any of these! So let me know if you have any questions."
   ]
  },
  {
   "cell_type": "markdown",
   "id": "18b49cdc",
   "metadata": {},
   "source": [
    "### Example 1\n",
    "\n",
    "Check this out: \n",
    "\n",
    "[How Baby Boomers Get High](https://fivethirtyeight.com/features/how-baby-boomers-get-high/)\n",
    "\n",
    "\n",
    "1. Go to the link associated with the data file https://github.com/fivethirtyeight/data/blob/master/drug-use-by-age/drug-use-by-age.csv\n",
    "\n",
    "2. Click on the `Raw` button above the data table on the page.\n",
    "3. Save the file as `drug-use-by-age.csv`, and upload it to Google Colab\n",
    "4. Run the code chunks below."
   ]
  },
  {
   "cell_type": "code",
   "execution_count": 2,
   "id": "df77cc67",
   "metadata": {},
   "outputs": [],
   "source": [
    "import pandas as pd"
   ]
  },
  {
   "cell_type": "code",
   "execution_count": null,
   "id": "aede1b5a",
   "metadata": {},
   "outputs": [],
   "source": [
    "data = pd.read_csv(\"drug-use-by-age.csv\")"
   ]
  },
  {
   "cell_type": "markdown",
   "id": "bbc197f2",
   "metadata": {},
   "source": [
    "Let's look at the first 5 rows of our data"
   ]
  },
  {
   "cell_type": "code",
   "execution_count": 33,
   "id": "2e544582",
   "metadata": {},
   "outputs": [
    {
     "data": {
      "text/html": [
       "<div>\n",
       "<style scoped>\n",
       "    .dataframe tbody tr th:only-of-type {\n",
       "        vertical-align: middle;\n",
       "    }\n",
       "\n",
       "    .dataframe tbody tr th {\n",
       "        vertical-align: top;\n",
       "    }\n",
       "\n",
       "    .dataframe thead th {\n",
       "        text-align: right;\n",
       "    }\n",
       "</style>\n",
       "<table border=\"1\" class=\"dataframe\">\n",
       "  <thead>\n",
       "    <tr style=\"text-align: right;\">\n",
       "      <th></th>\n",
       "      <th>age</th>\n",
       "      <th>n</th>\n",
       "      <th>alcohol_use</th>\n",
       "      <th>alcohol_frequency</th>\n",
       "      <th>marijuana_use</th>\n",
       "      <th>marijuana_frequency</th>\n",
       "      <th>cocaine_use</th>\n",
       "      <th>cocaine_frequency</th>\n",
       "      <th>crack_use</th>\n",
       "      <th>crack_frequency</th>\n",
       "      <th>...</th>\n",
       "      <th>oxycontin_use</th>\n",
       "      <th>oxycontin_frequency</th>\n",
       "      <th>tranquilizer_use</th>\n",
       "      <th>tranquilizer_frequency</th>\n",
       "      <th>stimulant_use</th>\n",
       "      <th>stimulant_frequency</th>\n",
       "      <th>meth_use</th>\n",
       "      <th>meth_frequency</th>\n",
       "      <th>sedative_use</th>\n",
       "      <th>sedative_frequency</th>\n",
       "    </tr>\n",
       "  </thead>\n",
       "  <tbody>\n",
       "    <tr>\n",
       "      <th>0</th>\n",
       "      <td>12</td>\n",
       "      <td>2798</td>\n",
       "      <td>3.9</td>\n",
       "      <td>3.0</td>\n",
       "      <td>1.1</td>\n",
       "      <td>4.0</td>\n",
       "      <td>0.1</td>\n",
       "      <td>5.0</td>\n",
       "      <td>0.0</td>\n",
       "      <td>-</td>\n",
       "      <td>...</td>\n",
       "      <td>0.1</td>\n",
       "      <td>24.5</td>\n",
       "      <td>0.2</td>\n",
       "      <td>52.0</td>\n",
       "      <td>0.2</td>\n",
       "      <td>2.0</td>\n",
       "      <td>0.0</td>\n",
       "      <td>-</td>\n",
       "      <td>0.2</td>\n",
       "      <td>13.0</td>\n",
       "    </tr>\n",
       "    <tr>\n",
       "      <th>1</th>\n",
       "      <td>13</td>\n",
       "      <td>2757</td>\n",
       "      <td>8.5</td>\n",
       "      <td>6.0</td>\n",
       "      <td>3.4</td>\n",
       "      <td>15.0</td>\n",
       "      <td>0.1</td>\n",
       "      <td>1.0</td>\n",
       "      <td>0.0</td>\n",
       "      <td>3.0</td>\n",
       "      <td>...</td>\n",
       "      <td>0.1</td>\n",
       "      <td>41.0</td>\n",
       "      <td>0.3</td>\n",
       "      <td>25.5</td>\n",
       "      <td>0.3</td>\n",
       "      <td>4.0</td>\n",
       "      <td>0.1</td>\n",
       "      <td>5.0</td>\n",
       "      <td>0.1</td>\n",
       "      <td>19.0</td>\n",
       "    </tr>\n",
       "    <tr>\n",
       "      <th>2</th>\n",
       "      <td>14</td>\n",
       "      <td>2792</td>\n",
       "      <td>18.1</td>\n",
       "      <td>5.0</td>\n",
       "      <td>8.7</td>\n",
       "      <td>24.0</td>\n",
       "      <td>0.1</td>\n",
       "      <td>5.5</td>\n",
       "      <td>0.0</td>\n",
       "      <td>-</td>\n",
       "      <td>...</td>\n",
       "      <td>0.4</td>\n",
       "      <td>4.5</td>\n",
       "      <td>0.9</td>\n",
       "      <td>5.0</td>\n",
       "      <td>0.8</td>\n",
       "      <td>12.0</td>\n",
       "      <td>0.1</td>\n",
       "      <td>24.0</td>\n",
       "      <td>0.2</td>\n",
       "      <td>16.5</td>\n",
       "    </tr>\n",
       "    <tr>\n",
       "      <th>3</th>\n",
       "      <td>15</td>\n",
       "      <td>2956</td>\n",
       "      <td>29.2</td>\n",
       "      <td>6.0</td>\n",
       "      <td>14.5</td>\n",
       "      <td>25.0</td>\n",
       "      <td>0.5</td>\n",
       "      <td>4.0</td>\n",
       "      <td>0.1</td>\n",
       "      <td>9.5</td>\n",
       "      <td>...</td>\n",
       "      <td>0.8</td>\n",
       "      <td>3.0</td>\n",
       "      <td>2.0</td>\n",
       "      <td>4.5</td>\n",
       "      <td>1.5</td>\n",
       "      <td>6.0</td>\n",
       "      <td>0.3</td>\n",
       "      <td>10.5</td>\n",
       "      <td>0.4</td>\n",
       "      <td>30.0</td>\n",
       "    </tr>\n",
       "    <tr>\n",
       "      <th>4</th>\n",
       "      <td>16</td>\n",
       "      <td>3058</td>\n",
       "      <td>40.1</td>\n",
       "      <td>10.0</td>\n",
       "      <td>22.5</td>\n",
       "      <td>30.0</td>\n",
       "      <td>1.0</td>\n",
       "      <td>7.0</td>\n",
       "      <td>0.0</td>\n",
       "      <td>1.0</td>\n",
       "      <td>...</td>\n",
       "      <td>1.1</td>\n",
       "      <td>4.0</td>\n",
       "      <td>2.4</td>\n",
       "      <td>11.0</td>\n",
       "      <td>1.8</td>\n",
       "      <td>9.5</td>\n",
       "      <td>0.3</td>\n",
       "      <td>36.0</td>\n",
       "      <td>0.2</td>\n",
       "      <td>3.0</td>\n",
       "    </tr>\n",
       "  </tbody>\n",
       "</table>\n",
       "<p>5 rows × 28 columns</p>\n",
       "</div>"
      ],
      "text/plain": [
       "  age     n  alcohol_use  alcohol_frequency  marijuana_use  \\\n",
       "0  12  2798          3.9                3.0            1.1   \n",
       "1  13  2757          8.5                6.0            3.4   \n",
       "2  14  2792         18.1                5.0            8.7   \n",
       "3  15  2956         29.2                6.0           14.5   \n",
       "4  16  3058         40.1               10.0           22.5   \n",
       "\n",
       "   marijuana_frequency  cocaine_use cocaine_frequency  crack_use  \\\n",
       "0                  4.0          0.1               5.0        0.0   \n",
       "1                 15.0          0.1               1.0        0.0   \n",
       "2                 24.0          0.1               5.5        0.0   \n",
       "3                 25.0          0.5               4.0        0.1   \n",
       "4                 30.0          1.0               7.0        0.0   \n",
       "\n",
       "  crack_frequency  ...  oxycontin_use oxycontin_frequency  tranquilizer_use  \\\n",
       "0               -  ...            0.1                24.5               0.2   \n",
       "1             3.0  ...            0.1                41.0               0.3   \n",
       "2               -  ...            0.4                 4.5               0.9   \n",
       "3             9.5  ...            0.8                 3.0               2.0   \n",
       "4             1.0  ...            1.1                 4.0               2.4   \n",
       "\n",
       "   tranquilizer_frequency  stimulant_use stimulant_frequency  meth_use  \\\n",
       "0                    52.0            0.2                 2.0       0.0   \n",
       "1                    25.5            0.3                 4.0       0.1   \n",
       "2                     5.0            0.8                12.0       0.1   \n",
       "3                     4.5            1.5                 6.0       0.3   \n",
       "4                    11.0            1.8                 9.5       0.3   \n",
       "\n",
       "   meth_frequency  sedative_use sedative_frequency  \n",
       "0               -           0.2               13.0  \n",
       "1             5.0           0.1               19.0  \n",
       "2            24.0           0.2               16.5  \n",
       "3            10.5           0.4               30.0  \n",
       "4            36.0           0.2                3.0  \n",
       "\n",
       "[5 rows x 28 columns]"
      ]
     },
     "execution_count": 33,
     "metadata": {},
     "output_type": "execute_result"
    }
   ],
   "source": [
    "data.head()"
   ]
  },
  {
   "cell_type": "code",
   "execution_count": 23,
   "id": "9a7f7b03",
   "metadata": {},
   "outputs": [],
   "source": [
    "# Find the first 10 rows\n",
    "# code here"
   ]
  },
  {
   "cell_type": "code",
   "execution_count": 24,
   "id": "94933977",
   "metadata": {},
   "outputs": [],
   "source": [
    "# Print the last 5 row?\n",
    "# code here"
   ]
  },
  {
   "cell_type": "code",
   "execution_count": 25,
   "id": "63bf3e86",
   "metadata": {},
   "outputs": [],
   "source": [
    "# Print the first 10 entry?\n",
    "#code here"
   ]
  },
  {
   "cell_type": "code",
   "execution_count": 26,
   "id": "2424e010",
   "metadata": {},
   "outputs": [],
   "source": [
    "#check what the function data.sample()does. What happens if you toss a number inside those parentheses (as an argument)?"
   ]
  },
  {
   "cell_type": "markdown",
   "id": "5420068b",
   "metadata": {},
   "source": [
    "Lets have a overall look of the dataset, checking if there is any inconsistency in the Dataset."
   ]
  },
  {
   "cell_type": "code",
   "execution_count": 43,
   "id": "461f81ab",
   "metadata": {},
   "outputs": [
    {
     "name": "stdout",
     "output_type": "stream",
     "text": [
      "Rows: 17\n",
      "Columns: 28\n"
     ]
    }
   ],
   "source": [
    "print('Rows:',data.shape[0])\n",
    "print('Columns:',data.shape[1])"
   ]
  },
  {
   "cell_type": "code",
   "execution_count": 44,
   "id": "a0bcd8c1",
   "metadata": {},
   "outputs": [
    {
     "name": "stdout",
     "output_type": "stream",
     "text": [
      "Columns (features)\n",
      "\n",
      "['age', 'n', 'alcohol_use', 'alcohol_frequency', 'marijuana_use', 'marijuana_frequency', 'cocaine_use', 'cocaine_frequency', 'crack_use', 'crack_frequency', 'heroin_use', 'heroin_frequency', 'hallucinogen_use', 'hallucinogen_frequency', 'inhalant_use', 'inhalant_frequency', 'pain_releiver_use', 'pain_releiver_frequency', 'oxycontin_use', 'oxycontin_frequency', 'tranquilizer_use', 'tranquilizer_frequency', 'stimulant_use', 'stimulant_frequency', 'meth_use', 'meth_frequency', 'sedative_use', 'sedative_frequency']\n"
     ]
    }
   ],
   "source": [
    "print('Columns (features)')\n",
    "print()\n",
    "print( data.columns.tolist())"
   ]
  },
  {
   "cell_type": "code",
   "execution_count": 45,
   "id": "12140afc",
   "metadata": {},
   "outputs": [
    {
     "name": "stdout",
     "output_type": "stream",
     "text": [
      " Unique Values\n",
      "\n",
      "age                        17\n",
      "n                          17\n",
      "alcohol_use                16\n",
      "alcohol_frequency           9\n",
      "marijuana_use              17\n",
      "marijuana_frequency        10\n",
      "cocaine_use                14\n",
      "cocaine_frequency          10\n",
      "crack_use                   5\n",
      "crack_frequency            13\n",
      "heroin_use                  9\n",
      "heroin_frequency           17\n",
      "hallucinogen_use           16\n",
      "hallucinogen_frequency      6\n",
      "inhalant_use               15\n",
      "inhalant_frequency         11\n",
      "pain_releiver_use          15\n",
      "pain_releiver_frequency    10\n",
      "oxycontin_use              12\n",
      "oxycontin_frequency        15\n",
      "tranquilizer_use           15\n",
      "tranquilizer_frequency     10\n",
      "stimulant_use              16\n",
      "stimulant_frequency        11\n",
      "meth_use                    9\n",
      "meth_frequency             14\n",
      "sedative_use                6\n",
      "sedative_frequency         14\n",
      "dtype: int64\n"
     ]
    }
   ],
   "source": [
    "print(' Unique Values')\n",
    "print()\n",
    "print( data.nunique())"
   ]
  },
  {
   "cell_type": "markdown",
   "id": "0ea4efba",
   "metadata": {},
   "source": [
    "Here is another useful function:"
   ]
  },
  {
   "cell_type": "code",
   "execution_count": 46,
   "id": "f1328b93",
   "metadata": {},
   "outputs": [
    {
     "name": "stdout",
     "output_type": "stream",
     "text": [
      "<class 'pandas.core.frame.DataFrame'>\n",
      "RangeIndex: 17 entries, 0 to 16\n",
      "Data columns (total 28 columns):\n",
      " #   Column                   Non-Null Count  Dtype  \n",
      "---  ------                   --------------  -----  \n",
      " 0   age                      17 non-null     object \n",
      " 1   n                        17 non-null     int64  \n",
      " 2   alcohol_use              17 non-null     float64\n",
      " 3   alcohol_frequency        17 non-null     float64\n",
      " 4   marijuana_use            17 non-null     float64\n",
      " 5   marijuana_frequency      17 non-null     float64\n",
      " 6   cocaine_use              17 non-null     float64\n",
      " 7   cocaine_frequency        17 non-null     object \n",
      " 8   crack_use                17 non-null     float64\n",
      " 9   crack_frequency          17 non-null     object \n",
      " 10  heroin_use               17 non-null     float64\n",
      " 11  heroin_frequency         17 non-null     object \n",
      " 12  hallucinogen_use         17 non-null     float64\n",
      " 13  hallucinogen_frequency   17 non-null     float64\n",
      " 14  inhalant_use             17 non-null     float64\n",
      " 15  inhalant_frequency       17 non-null     object \n",
      " 16  pain_releiver_use        17 non-null     float64\n",
      " 17  pain_releiver_frequency  17 non-null     float64\n",
      " 18  oxycontin_use            17 non-null     float64\n",
      " 19  oxycontin_frequency      17 non-null     object \n",
      " 20  tranquilizer_use         17 non-null     float64\n",
      " 21  tranquilizer_frequency   17 non-null     float64\n",
      " 22  stimulant_use            17 non-null     float64\n",
      " 23  stimulant_frequency      17 non-null     float64\n",
      " 24  meth_use                 17 non-null     float64\n",
      " 25  meth_frequency           17 non-null     object \n",
      " 26  sedative_use             17 non-null     float64\n",
      " 27  sedative_frequency       17 non-null     float64\n",
      "dtypes: float64(20), int64(1), object(7)\n",
      "memory usage: 3.8+ KB\n"
     ]
    }
   ],
   "source": [
    "data.info()"
   ]
  },
  {
   "cell_type": "markdown",
   "id": "b79b13ad",
   "metadata": {},
   "source": [
    "We can also load the directly from the website by placing the raw csv file directly into `.read_csv`."
   ]
  },
  {
   "cell_type": "code",
   "execution_count": 3,
   "id": "bb78c23c",
   "metadata": {},
   "outputs": [
    {
     "ename": "FileNotFoundError",
     "evalue": "[Errno 2] No such file or directory: 'LINK'",
     "output_type": "error",
     "traceback": [
      "\u001b[0;31m---------------------------------------------------------------------------\u001b[0m",
      "\u001b[0;31mFileNotFoundError\u001b[0m                         Traceback (most recent call last)",
      "\u001b[0;32m<ipython-input-3-babd9612b6d2>\u001b[0m in \u001b[0;36m<module>\u001b[0;34m\u001b[0m\n\u001b[1;32m      1\u001b[0m \u001b[0;31m#Code here\u001b[0m\u001b[0;34m\u001b[0m\u001b[0;34m\u001b[0m\u001b[0;34m\u001b[0m\u001b[0m\n\u001b[0;32m----> 2\u001b[0;31m \u001b[0mdata\u001b[0m \u001b[0;34m=\u001b[0m \u001b[0mpd\u001b[0m\u001b[0;34m.\u001b[0m\u001b[0mread_csv\u001b[0m\u001b[0;34m(\u001b[0m\u001b[0;34m\"LINK\"\u001b[0m\u001b[0;34m)\u001b[0m\u001b[0;34m\u001b[0m\u001b[0;34m\u001b[0m\u001b[0m\n\u001b[0m",
      "\u001b[0;32m~/opt/anaconda3/lib/python3.8/site-packages/pandas/io/parsers.py\u001b[0m in \u001b[0;36mread_csv\u001b[0;34m(filepath_or_buffer, sep, delimiter, header, names, index_col, usecols, squeeze, prefix, mangle_dupe_cols, dtype, engine, converters, true_values, false_values, skipinitialspace, skiprows, skipfooter, nrows, na_values, keep_default_na, na_filter, verbose, skip_blank_lines, parse_dates, infer_datetime_format, keep_date_col, date_parser, dayfirst, cache_dates, iterator, chunksize, compression, thousands, decimal, lineterminator, quotechar, quoting, doublequote, escapechar, comment, encoding, dialect, error_bad_lines, warn_bad_lines, delim_whitespace, low_memory, memory_map, float_precision)\u001b[0m\n\u001b[1;32m    684\u001b[0m     )\n\u001b[1;32m    685\u001b[0m \u001b[0;34m\u001b[0m\u001b[0m\n\u001b[0;32m--> 686\u001b[0;31m     \u001b[0;32mreturn\u001b[0m \u001b[0m_read\u001b[0m\u001b[0;34m(\u001b[0m\u001b[0mfilepath_or_buffer\u001b[0m\u001b[0;34m,\u001b[0m \u001b[0mkwds\u001b[0m\u001b[0;34m)\u001b[0m\u001b[0;34m\u001b[0m\u001b[0;34m\u001b[0m\u001b[0m\n\u001b[0m\u001b[1;32m    687\u001b[0m \u001b[0;34m\u001b[0m\u001b[0m\n\u001b[1;32m    688\u001b[0m \u001b[0;34m\u001b[0m\u001b[0m\n",
      "\u001b[0;32m~/opt/anaconda3/lib/python3.8/site-packages/pandas/io/parsers.py\u001b[0m in \u001b[0;36m_read\u001b[0;34m(filepath_or_buffer, kwds)\u001b[0m\n\u001b[1;32m    450\u001b[0m \u001b[0;34m\u001b[0m\u001b[0m\n\u001b[1;32m    451\u001b[0m     \u001b[0;31m# Create the parser.\u001b[0m\u001b[0;34m\u001b[0m\u001b[0;34m\u001b[0m\u001b[0;34m\u001b[0m\u001b[0m\n\u001b[0;32m--> 452\u001b[0;31m     \u001b[0mparser\u001b[0m \u001b[0;34m=\u001b[0m \u001b[0mTextFileReader\u001b[0m\u001b[0;34m(\u001b[0m\u001b[0mfp_or_buf\u001b[0m\u001b[0;34m,\u001b[0m \u001b[0;34m**\u001b[0m\u001b[0mkwds\u001b[0m\u001b[0;34m)\u001b[0m\u001b[0;34m\u001b[0m\u001b[0;34m\u001b[0m\u001b[0m\n\u001b[0m\u001b[1;32m    453\u001b[0m \u001b[0;34m\u001b[0m\u001b[0m\n\u001b[1;32m    454\u001b[0m     \u001b[0;32mif\u001b[0m \u001b[0mchunksize\u001b[0m \u001b[0;32mor\u001b[0m \u001b[0miterator\u001b[0m\u001b[0;34m:\u001b[0m\u001b[0;34m\u001b[0m\u001b[0;34m\u001b[0m\u001b[0m\n",
      "\u001b[0;32m~/opt/anaconda3/lib/python3.8/site-packages/pandas/io/parsers.py\u001b[0m in \u001b[0;36m__init__\u001b[0;34m(self, f, engine, **kwds)\u001b[0m\n\u001b[1;32m    944\u001b[0m             \u001b[0mself\u001b[0m\u001b[0;34m.\u001b[0m\u001b[0moptions\u001b[0m\u001b[0;34m[\u001b[0m\u001b[0;34m\"has_index_names\"\u001b[0m\u001b[0;34m]\u001b[0m \u001b[0;34m=\u001b[0m \u001b[0mkwds\u001b[0m\u001b[0;34m[\u001b[0m\u001b[0;34m\"has_index_names\"\u001b[0m\u001b[0;34m]\u001b[0m\u001b[0;34m\u001b[0m\u001b[0;34m\u001b[0m\u001b[0m\n\u001b[1;32m    945\u001b[0m \u001b[0;34m\u001b[0m\u001b[0m\n\u001b[0;32m--> 946\u001b[0;31m         \u001b[0mself\u001b[0m\u001b[0;34m.\u001b[0m\u001b[0m_make_engine\u001b[0m\u001b[0;34m(\u001b[0m\u001b[0mself\u001b[0m\u001b[0;34m.\u001b[0m\u001b[0mengine\u001b[0m\u001b[0;34m)\u001b[0m\u001b[0;34m\u001b[0m\u001b[0;34m\u001b[0m\u001b[0m\n\u001b[0m\u001b[1;32m    947\u001b[0m \u001b[0;34m\u001b[0m\u001b[0m\n\u001b[1;32m    948\u001b[0m     \u001b[0;32mdef\u001b[0m \u001b[0mclose\u001b[0m\u001b[0;34m(\u001b[0m\u001b[0mself\u001b[0m\u001b[0;34m)\u001b[0m\u001b[0;34m:\u001b[0m\u001b[0;34m\u001b[0m\u001b[0;34m\u001b[0m\u001b[0m\n",
      "\u001b[0;32m~/opt/anaconda3/lib/python3.8/site-packages/pandas/io/parsers.py\u001b[0m in \u001b[0;36m_make_engine\u001b[0;34m(self, engine)\u001b[0m\n\u001b[1;32m   1176\u001b[0m     \u001b[0;32mdef\u001b[0m \u001b[0m_make_engine\u001b[0m\u001b[0;34m(\u001b[0m\u001b[0mself\u001b[0m\u001b[0;34m,\u001b[0m \u001b[0mengine\u001b[0m\u001b[0;34m=\u001b[0m\u001b[0;34m\"c\"\u001b[0m\u001b[0;34m)\u001b[0m\u001b[0;34m:\u001b[0m\u001b[0;34m\u001b[0m\u001b[0;34m\u001b[0m\u001b[0m\n\u001b[1;32m   1177\u001b[0m         \u001b[0;32mif\u001b[0m \u001b[0mengine\u001b[0m \u001b[0;34m==\u001b[0m \u001b[0;34m\"c\"\u001b[0m\u001b[0;34m:\u001b[0m\u001b[0;34m\u001b[0m\u001b[0;34m\u001b[0m\u001b[0m\n\u001b[0;32m-> 1178\u001b[0;31m             \u001b[0mself\u001b[0m\u001b[0;34m.\u001b[0m\u001b[0m_engine\u001b[0m \u001b[0;34m=\u001b[0m \u001b[0mCParserWrapper\u001b[0m\u001b[0;34m(\u001b[0m\u001b[0mself\u001b[0m\u001b[0;34m.\u001b[0m\u001b[0mf\u001b[0m\u001b[0;34m,\u001b[0m \u001b[0;34m**\u001b[0m\u001b[0mself\u001b[0m\u001b[0;34m.\u001b[0m\u001b[0moptions\u001b[0m\u001b[0;34m)\u001b[0m\u001b[0;34m\u001b[0m\u001b[0;34m\u001b[0m\u001b[0m\n\u001b[0m\u001b[1;32m   1179\u001b[0m         \u001b[0;32melse\u001b[0m\u001b[0;34m:\u001b[0m\u001b[0;34m\u001b[0m\u001b[0;34m\u001b[0m\u001b[0m\n\u001b[1;32m   1180\u001b[0m             \u001b[0;32mif\u001b[0m \u001b[0mengine\u001b[0m \u001b[0;34m==\u001b[0m \u001b[0;34m\"python\"\u001b[0m\u001b[0;34m:\u001b[0m\u001b[0;34m\u001b[0m\u001b[0;34m\u001b[0m\u001b[0m\n",
      "\u001b[0;32m~/opt/anaconda3/lib/python3.8/site-packages/pandas/io/parsers.py\u001b[0m in \u001b[0;36m__init__\u001b[0;34m(self, src, **kwds)\u001b[0m\n\u001b[1;32m   2006\u001b[0m         \u001b[0mkwds\u001b[0m\u001b[0;34m[\u001b[0m\u001b[0;34m\"usecols\"\u001b[0m\u001b[0;34m]\u001b[0m \u001b[0;34m=\u001b[0m \u001b[0mself\u001b[0m\u001b[0;34m.\u001b[0m\u001b[0musecols\u001b[0m\u001b[0;34m\u001b[0m\u001b[0;34m\u001b[0m\u001b[0m\n\u001b[1;32m   2007\u001b[0m \u001b[0;34m\u001b[0m\u001b[0m\n\u001b[0;32m-> 2008\u001b[0;31m         \u001b[0mself\u001b[0m\u001b[0;34m.\u001b[0m\u001b[0m_reader\u001b[0m \u001b[0;34m=\u001b[0m \u001b[0mparsers\u001b[0m\u001b[0;34m.\u001b[0m\u001b[0mTextReader\u001b[0m\u001b[0;34m(\u001b[0m\u001b[0msrc\u001b[0m\u001b[0;34m,\u001b[0m \u001b[0;34m**\u001b[0m\u001b[0mkwds\u001b[0m\u001b[0;34m)\u001b[0m\u001b[0;34m\u001b[0m\u001b[0;34m\u001b[0m\u001b[0m\n\u001b[0m\u001b[1;32m   2009\u001b[0m         \u001b[0mself\u001b[0m\u001b[0;34m.\u001b[0m\u001b[0munnamed_cols\u001b[0m \u001b[0;34m=\u001b[0m \u001b[0mself\u001b[0m\u001b[0;34m.\u001b[0m\u001b[0m_reader\u001b[0m\u001b[0;34m.\u001b[0m\u001b[0munnamed_cols\u001b[0m\u001b[0;34m\u001b[0m\u001b[0;34m\u001b[0m\u001b[0m\n\u001b[1;32m   2010\u001b[0m \u001b[0;34m\u001b[0m\u001b[0m\n",
      "\u001b[0;32mpandas/_libs/parsers.pyx\u001b[0m in \u001b[0;36mpandas._libs.parsers.TextReader.__cinit__\u001b[0;34m()\u001b[0m\n",
      "\u001b[0;32mpandas/_libs/parsers.pyx\u001b[0m in \u001b[0;36mpandas._libs.parsers.TextReader._setup_parser_source\u001b[0;34m()\u001b[0m\n",
      "\u001b[0;31mFileNotFoundError\u001b[0m: [Errno 2] No such file or directory: 'LINK'"
     ]
    }
   ],
   "source": [
    "#Code here\n",
    "data = pd.read_csv(\"LINK\")"
   ]
  },
  {
   "cell_type": "markdown",
   "id": "33280187",
   "metadata": {},
   "source": [
    "\n"
   ]
  },
  {
   "cell_type": "code",
   "execution_count": null,
   "id": "e478513e",
   "metadata": {},
   "outputs": [],
   "source": [
    "#Code here"
   ]
  },
  {
   "cell_type": "markdown",
   "id": "e54a6af4",
   "metadata": {},
   "source": [
    "Can you filter your table to have information only among people in the age range 20-50"
   ]
  },
  {
   "cell_type": "code",
   "execution_count": null,
   "id": "c3caabd9",
   "metadata": {},
   "outputs": [],
   "source": [
    "#Code here"
   ]
  },
  {
   "cell_type": "markdown",
   "id": "0ef880f1",
   "metadata": {},
   "source": [
    "Let's plot this new table using scatter matrix."
   ]
  },
  {
   "cell_type": "code",
   "execution_count": null,
   "id": "48b1d23f",
   "metadata": {},
   "outputs": [],
   "source": [
    "#Code here"
   ]
  },
  {
   "cell_type": "markdown",
   "id": "d036cdfb",
   "metadata": {},
   "source": [
    "### Example: Extracting Data from Kaggle.com\n",
    "\n",
    "Let's now show you how to grab some data from Kaggle.com. Heads up, __you'll need a Kaggle profile for this__.\n",
    "\n",
    "Kaggle has a whole section dedicated to public datasets, [here](https://www.kaggle.com/datasets). Today, we're downloading the famous iris dataset from [this link](https://www.kaggle.com/uciml/iris).\n",
    "\n",
    "#### Instructions\n",
    "\n",
    "1. Go to this [link](https://www.kaggle.com/uciml/iris).\n",
    "2. Download and unzip the zip file. Then upload the `Iris.csv` to Google Colab page."
   ]
  },
  {
   "cell_type": "code",
   "execution_count": null,
   "id": "b9fe5f42",
   "metadata": {},
   "outputs": [],
   "source": [
    "#Read the Iris.csv file using pandas"
   ]
  },
  {
   "cell_type": "code",
   "execution_count": 29,
   "id": "e9dda8ef",
   "metadata": {},
   "outputs": [],
   "source": [
    "#Examine the first five and the last five rows."
   ]
  },
  {
   "cell_type": "code",
   "execution_count": 30,
   "id": "e343e26f",
   "metadata": {},
   "outputs": [],
   "source": [
    "#Examine a random sample"
   ]
  },
  {
   "cell_type": "code",
   "execution_count": 47,
   "id": "7237211b",
   "metadata": {},
   "outputs": [],
   "source": [
    "#Explor the data and check if there is any inconsistency in the Dataset."
   ]
  },
  {
   "cell_type": "code",
   "execution_count": null,
   "id": "ea560d7b",
   "metadata": {},
   "outputs": [],
   "source": [
    "# you code"
   ]
  },
  {
   "cell_type": "markdown",
   "id": "379fc8aa",
   "metadata": {},
   "source": [
    "## Exploratory Data Analysis\n",
    " \n",
    "Exploratory Data Analysis (EDA) is a critical step in data analysis that identifies general patterns and relations in the data.\n",
    "\n",
    "\n",
    "Lets start with the\n",
    "For example, we use scatter plots that show pairwise relationships between several variables. \n"
   ]
  },
  {
   "cell_type": "markdown",
   "id": "cde40de0",
   "metadata": {},
   "source": [
    "Now lets try to plot the data and have some ideas about the relation between different columns."
   ]
  },
  {
   "cell_type": "code",
   "execution_count": 65,
   "id": "d2fb4d47",
   "metadata": {},
   "outputs": [],
   "source": [
    "from pandas.plotting import scatter_matrix\n",
    "import matplotlib.pyplot as plt\n",
    "\n",
    "\n",
    "#scatter_matrix(data, figsize=(14,14))\n",
    "\n",
    "#plt.show()"
   ]
  },
  {
   "cell_type": "markdown",
   "id": "74fe06cc",
   "metadata": {},
   "source": [
    "When we're training algorithms, we need to pay attention to how many features we've got and how they relate to each other. If we've got a bunch of features that are all tangled up (correlated), using them all can mess with our accuracy. So, we've got to be smart about picking the right ones. But how?\n",
    "\n",
    "In machine learning and data analysis, understanding feature correlations is important because highly correlated features can sometimes provide redundant or overlapping information to algorithms, which can lead to suboptimal model performance. Therefore, feature selection or feature engineering techniques are used to choose the most relevant and uncorrelated features for modeling.\n",
    "\n",
    "__Correlation__ We say two or more features (variables) in a dataset are correlated if there is a statistical relationship or association between them. When features are correlated, changes in one feature may be related to changes in another. \n",
    "\n",
    "For example, if you have two features in a dataset, such as \"temperature\" and \"ice cream sales,\" and you notice that as the temperature increases, ice cream sales also tend to increase, these two features can be considered correlated. In simpler terms, when one goes up, the other often goes up as well, or vice versa. In most data, pairwise correlations may not provide enough insights, and multivariate appraoches to exploratory data analyses are recommended."
   ]
  },
  {
   "cell_type": "code",
   "execution_count": 67,
   "id": "bf19cf08",
   "metadata": {},
   "outputs": [],
   "source": [
    "# use .corr() to find pairwise correlation in CSV file of example 1"
   ]
  },
  {
   "cell_type": "code",
   "execution_count": null,
   "id": "29ba87de",
   "metadata": {},
   "outputs": [],
   "source": [
    "# run this code for a better view\n",
    "plt.figure(figsize=(10,8))\n",
    "\n",
    "sns.heatmap(df.corr(), annot=True, cmap='cubehelix_r')\n",
    "plt.show()"
   ]
  },
  {
   "cell_type": "markdown",
   "id": "f14759c2",
   "metadata": {},
   "source": [
    "Let's say your project focuses on only alcohol, marijuana and cocain. Create a table that specifically captures data on alcohol, marijuana, and cocaine. "
   ]
  },
  {
   "cell_type": "code",
   "execution_count": 68,
   "id": "0dde9f58",
   "metadata": {},
   "outputs": [],
   "source": [
    "# code here\n",
    "\n",
    "AMC = "
   ]
  },
  {
   "cell_type": "code",
   "execution_count": 69,
   "id": "cdba9170",
   "metadata": {},
   "outputs": [],
   "source": [
    "# 1- Find the pariwise correlation in this new table."
   ]
  },
  {
   "cell_type": "code",
   "execution_count": 70,
   "id": "d5da5795",
   "metadata": {},
   "outputs": [],
   "source": [
    "# 2- Plot the heatmap as above"
   ]
  },
  {
   "cell_type": "code",
   "execution_count": 71,
   "id": "637898da",
   "metadata": {},
   "outputs": [],
   "source": [
    "# 3- How do you interpret the result?"
   ]
  },
  {
   "cell_type": "code",
   "execution_count": 72,
   "id": "a699686e",
   "metadata": {},
   "outputs": [],
   "source": [
    "# 4- plot data using scatter matrix"
   ]
  },
  {
   "cell_type": "markdown",
   "id": "17096e6d",
   "metadata": {},
   "source": [
    "Let's try a different way of plotting: `sns.pairplot`. Check out its documentation to learn how to use it.\n",
    "\n",
    "Documentation link: [Seaborn pairplot documentation]( https://seaborn.pydata.org/generated/seaborn.pairplot.html)\n"
   ]
  },
  {
   "cell_type": "code",
   "execution_count": null,
   "id": "d4c17a8f",
   "metadata": {},
   "outputs": [],
   "source": [
    "#code her"
   ]
  },
  {
   "cell_type": "markdown",
   "id": "4d9b1725",
   "metadata": {},
   "source": [
    "Follow the above steps for the CSV file in the second example. "
   ]
  },
  {
   "cell_type": "code",
   "execution_count": null,
   "id": "4c98fa5f",
   "metadata": {},
   "outputs": [],
   "source": [
    "# 1- Find the pariwise correlation in Iris.csv"
   ]
  },
  {
   "cell_type": "code",
   "execution_count": null,
   "id": "3d8a9bbb",
   "metadata": {},
   "outputs": [],
   "source": [
    "# 2- Plot the heatmap as above"
   ]
  },
  {
   "cell_type": "code",
   "execution_count": null,
   "id": "23395918",
   "metadata": {},
   "outputs": [],
   "source": [
    "# 3- How do you interpret the result?"
   ]
  },
  {
   "cell_type": "code",
   "execution_count": null,
   "id": "1fe319aa",
   "metadata": {},
   "outputs": [],
   "source": [
    "# 4- Plot data using scatter matrix"
   ]
  },
  {
   "cell_type": "code",
   "execution_count": null,
   "id": "2ff5ec20",
   "metadata": {},
   "outputs": [],
   "source": [
    "# 5- Use sns.pairplot to plot data"
   ]
  },
  {
   "cell_type": "markdown",
   "id": "5e57430b",
   "metadata": {},
   "source": [
    "Congratualtions! You finishied your first lab!"
   ]
  },
  {
   "cell_type": "markdown",
   "id": "d6e2434f",
   "metadata": {},
   "source": [
    "_This lab is written based on Data Science Boot Camp lectures, written by Matthew Osborne, Ph. D., 2021, for for the Erd&#337;s Institute C&#337;de._"
   ]
  }
 ],
 "metadata": {
  "kernelspec": {
   "display_name": "Python 3",
   "language": "python",
   "name": "python3"
  },
  "language_info": {
   "codemirror_mode": {
    "name": "ipython",
    "version": 3
   },
   "file_extension": ".py",
   "mimetype": "text/x-python",
   "name": "python",
   "nbconvert_exporter": "python",
   "pygments_lexer": "ipython3",
   "version": "3.8.5"
  }
 },
 "nbformat": 4,
 "nbformat_minor": 5
}
