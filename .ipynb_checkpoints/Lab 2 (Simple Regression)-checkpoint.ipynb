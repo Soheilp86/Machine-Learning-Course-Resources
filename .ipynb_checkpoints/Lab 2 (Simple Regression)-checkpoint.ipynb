{
 "cells": [
  {
   "cell_type": "markdown",
   "id": "9f689573",
   "metadata": {},
   "source": [
    "# Lab 2\n",
    "\n",
    "In this lab we will:\n",
    "- Introduce the stastical model behind simple linear regression,\n",
    "- Learn about train test splits,\n",
    "- Look at explanatory slr, and\n",
    "- End with predictive slr."
   ]
  },
  {
   "cell_type": "markdown",
   "id": "f4b5201f",
   "metadata": {},
   "source": [
    "## Regression Modeling\n",
    "\n",
    "Let's say we have a data set and we've collected some features, $X$, and some output data, $y$, and we believe there is some true relationship between the two:\n",
    "\n",
    "$$\n",
    "y = f(X) + \\epsilon,\n",
    "$$\n",
    "called the <i>model</i>.\n",
    "\n",
    "When the output is numerical, we call it regression model. It is common to say that we are regressing $y$ on $X$."
   ]
  },
  {
   "cell_type": "markdown",
   "id": "3417ceae",
   "metadata": {},
   "source": [
    "### Example\n",
    "\n",
    "In this example we will consider sales based on 'TV' marketing budget from \n",
    "https://raw.githubusercontent.com/devzohaib/Simple-Linear-Regression/master/tvmarketing.csv\n",
    "\n",
    "We'll build a linear regression model to predict 'Sales' using 'TV' as the predictor variable."
   ]
  },
  {
   "cell_type": "code",
   "execution_count": 1,
   "id": "0aed2c1f",
   "metadata": {},
   "outputs": [],
   "source": [
    "# Use pandas to import the data\n",
    "#tvmarketing"
   ]
  },
  {
   "cell_type": "code",
   "execution_count": null,
   "id": "36c83eef",
   "metadata": {},
   "outputs": [],
   "source": [
    "## Use .copy() to make a copy of the original dataframe so we dont mess the original data. \n",
    "\n",
    "# tvmarketing_copy = "
   ]
  },
  {
   "cell_type": "markdown",
   "id": "5cb08f03",
   "metadata": {},
   "source": [
    "Now examine your dataset (for example, what is the size of your table? what are your features?)"
   ]
  },
  {
   "cell_type": "code",
   "execution_count": 2,
   "id": "db3e824f",
   "metadata": {},
   "outputs": [],
   "source": [
    "# you code"
   ]
  },
  {
   "cell_type": "code",
   "execution_count": 3,
   "id": "a1b98e15",
   "metadata": {},
   "outputs": [],
   "source": [
    "# use .info() to check your columns"
   ]
  },
  {
   "cell_type": "code",
   "execution_count": 4,
   "id": "5bb928b2",
   "metadata": {},
   "outputs": [],
   "source": [
    "# use .describe() to look at some statistical information about the dataframe."
   ]
  },
  {
   "cell_type": "code",
   "execution_count": 5,
   "id": "2cf383cc",
   "metadata": {},
   "outputs": [],
   "source": [
    "# plot your data to Visualise the relationship between the features"
   ]
  },
  {
   "cell_type": "markdown",
   "id": "3642ac1d",
   "metadata": {},
   "source": []
  },
  {
   "cell_type": "code",
   "execution_count": 7,
   "id": "da2c474a",
   "metadata": {},
   "outputs": [],
   "source": []
  },
  {
   "cell_type": "code",
   "execution_count": 8,
   "id": "b8e7ad42",
   "metadata": {},
   "outputs": [],
   "source": []
  },
  {
   "cell_type": "markdown",
   "id": "6422075a",
   "metadata": {},
   "source": [
    "### Training Test Split\n",
    "\n",
    "Imagine you're teaching a dog new tricks. To make sure your pup can do more than just roll over at home, you decide to test their skills in the park.\n",
    "\n",
    "**Training:** At home, you teach your dog the basics, like sit, stay, and fetch. This is your \"training\" phase. Your dog learns from your commands, but it's still in familiar surroundings.\n",
    "\n",
    "But here's the catch: just because your dog listens at home doesn't mean they'll follow your orders in the park with distractions.\n",
    "\n",
    "**Testing:** So, you go to the park, where there are squirrels, other dogs, and tons of distractions. This is like your \"test\" phase. You want to see if your dog can perform the tricks they learned at home in this new, more challenging environment.\n",
    "\n",
    "In the same way, in machine learning, we want to set aside a small subset of the data for testing purposes. This is known as making the <i>train test split</i>. The test data exists as a sanity check to see if the model is as good as the training data tells us.\n",
    "\n"
   ]
  },
  {
   "cell_type": "markdown",
   "id": "9d48c25b",
   "metadata": {},
   "source": [
    "Let's use `pandas` to make our train test split."
   ]
  },
  {
   "cell_type": "code",
   "execution_count": 12,
   "id": "6cf4b1ca",
   "metadata": {},
   "outputs": [],
   "source": [
    "## Now use .sample(frac = , ranfom_state = 440) to make a random sample\n",
    "## frac allows us to choose a fraction of the df\n",
    "## it is common to set aside 25% for testing\n",
    "##random_state is the seed used by the random number generator, it can be any integer.\n",
    "\n",
    "\n",
    "#tvmarketing_train = "
   ]
  },
  {
   "cell_type": "code",
   "execution_count": 13,
   "id": "1e1c44ce",
   "metadata": {},
   "outputs": [],
   "source": [
    "## now use .drop and the train index to make test\n",
    "#tvmarketing_test = tvmarketing_copy.drop(tvmarketing_train.index)"
   ]
  },
  {
   "cell_type": "markdown",
   "id": "9fa97be3",
   "metadata": {},
   "source": [
    "Lets stop and understand the general structure of modeling using the `scikit-learn library`. The steps to build any model can be divided as follows: \n",
    "\n",
    "-  X (feature variable) and y (output variable) need to be NumPy arrays.\n",
    "-  But its okay to use Pandas dataframe as Pandas is built over NumPy."
   ]
  },
  {
   "cell_type": "code",
   "execution_count": 14,
   "id": "ad624ddc",
   "metadata": {},
   "outputs": [],
   "source": [
    "# Define X (tv from train dataset)\n",
    "\n",
    "# X_train ="
   ]
  },
  {
   "cell_type": "code",
   "execution_count": null,
   "id": "a629a82a",
   "metadata": {},
   "outputs": [],
   "source": [
    "# define Y (sales from train dataset)\n",
    "\n",
    "#y_train ="
   ]
  },
  {
   "cell_type": "markdown",
   "id": "9e06d912",
   "metadata": {},
   "source": [
    "If you extract your features X and y from the original dataset, rather than just the training dataset, you can also perform the train-test split using scikit-learn (sklearn) in Python. Note that running the next cell will overwrite your X and y, so practice this later at home."
   ]
  },
  {
   "cell_type": "code",
   "execution_count": 15,
   "id": "a2cc2ddb",
   "metadata": {},
   "outputs": [],
   "source": [
    "#from sklearn.model_selection import train_test_split\n",
    "#X_train, X_test, y_train, y_test = train_test_split(X, y, train_size=0.7 , random_state=0000)"
   ]
  },
  {
   "cell_type": "markdown",
   "id": "c7eac028",
   "metadata": {},
   "source": [
    "Now lets perform linear regression using sklearn library (check the documentation if you need help!)"
   ]
  },
  {
   "cell_type": "code",
   "execution_count": 16,
   "id": "36177ac8",
   "metadata": {},
   "outputs": [],
   "source": [
    "# import LinearRegression from sklearn\n",
    "from sklearn.linear_model import LinearRegression\n",
    "\n",
    "# Representing LinearRegression as reg, create a LinearRegression bbject\n",
    "#reg = LinearRegression()\n",
    "\n",
    "# Fit the model using lr.fit()\n",
    "#reg.fit(X_train, y_train)"
   ]
  },
  {
   "cell_type": "markdown",
   "id": "434bf97c",
   "metadata": {},
   "source": [
    "Alright! You now have your model ($ sales = \\beta_0 + \\beta_1 \\times TV$). Let's print your model's parameters:"
   ]
  },
  {
   "cell_type": "code",
   "execution_count": 19,
   "id": "61deb37b",
   "metadata": {},
   "outputs": [],
   "source": [
    "# Print the intercept and coefficients\n",
    "#print(reg.intercept_)\n",
    "#print(reg.coef_)"
   ]
  },
  {
   "cell_type": "markdown",
   "id": "12a30839",
   "metadata": {},
   "source": [
    "Write down your equation!"
   ]
  },
  {
   "cell_type": "markdown",
   "id": "a890a47d",
   "metadata": {},
   "source": [
    "Now, let's use this equation to predict our sales."
   ]
  },
  {
   "cell_type": "code",
   "execution_count": 20,
   "id": "a33ebfe5",
   "metadata": {},
   "outputs": [],
   "source": [
    "# Find the X and y from test datasets\n",
    "#X_test = \n",
    "\n",
    "#y_test = \n"
   ]
  },
  {
   "cell_type": "code",
   "execution_count": 21,
   "id": "99cae873",
   "metadata": {},
   "outputs": [],
   "source": [
    "# Prediction!\n",
    "# Use reg.predict(X_test) to see what is the model prediction. Store your result in y_pred."
   ]
  },
  {
   "cell_type": "markdown",
   "id": "4c8d65ba",
   "metadata": {},
   "source": [
    "How do we check if it did a good job predicting the $y$ values? Well, we can simple compare y_text and y_pred. Lets plot them:"
   ]
  },
  {
   "cell_type": "code",
   "execution_count": null,
   "id": "2c48d456",
   "metadata": {},
   "outputs": [],
   "source": [
    "# you code!\n",
    "#Actual vs Predicted"
   ]
  },
  {
   "cell_type": "markdown",
   "id": "d18e0a40",
   "metadata": {},
   "source": [
    "We can create a new list by subtracting the predicted values (y-pred) from the actual values (y_test), and then plot this list to assess the performance of your model."
   ]
  },
  {
   "cell_type": "code",
   "execution_count": 22,
   "id": "9b19356f",
   "metadata": {},
   "outputs": [],
   "source": [
    "# you code\n",
    "# plot (y_test - y_pred)"
   ]
  },
  {
   "cell_type": "markdown",
   "id": "ebf88ea0",
   "metadata": {},
   "source": [
    "But it would be nice to quantify the performance! To do so, we use Root Mean Square Error (RMSE) and R-squared $(R^2)$ Values.\n",
    "\n",
    "RMSE (Root Mean Square Error) and $R^2$ are both commonly used metrics in regression analysis to assess the performance of a regression model. RMSE measures the accuracy of predictions by quantifying the error between predicted and actual values, while R^2 measures how well the independent variables in the model explain the variation in the dependent variable. A high R^2 value and a low RMSE value are generally indicative of a good regression model.\n",
    "\n",
    "For example, \n",
    "$RMSE = 7.9$ means that this model is not able to match the $7.9$ percent of the values. And\n",
    "$R^2 = 0.72$ means that your model is $72\\%$ accurate on test data ."
   ]
  },
  {
   "cell_type": "code",
   "execution_count": 24,
   "id": "02a6ad00",
   "metadata": {},
   "outputs": [],
   "source": [
    "#from sklearn.metrics import mean_squared_error, r2_score\n",
    "#mse = mean_squared_error(y_test, y_pred)"
   ]
  },
  {
   "cell_type": "markdown",
   "id": "638112d9",
   "metadata": {},
   "source": [
    "Congratulations! You are done with lab 2!"
   ]
  },
  {
   "cell_type": "markdown",
   "id": "c2def1ac",
   "metadata": {},
   "source": [
    "__More on MSRE and R^2__\n",
    "\n",
    "<span style=\"color:blue\">RMSE (Root Mean Square Error):</span>\n",
    "The RMSE is a measure of the average deviation between the predicted values of a regression model and the actual observed values. It quantifies the accuracy of predictions by calculating the square root of the mean of the squared differences between predicted and actual values. RMSE is expressed in the same units as the dependent variable (the variable you are trying to predict) and provides a measure of how much, on average, your predictions deviate from the true values. Lower RMSE values indicate better model performance, with values closer to 0 indicating a more accurate model.\n",
    "\n",
    "RMSE is calculated as follows:\n",
    "\n",
    "$\n",
    "\\text{RMSE} = \\sqrt{\\frac{1}{n}\\sum_{i=1}^{n}(y_i - \\hat{y}_i)^2}\n",
    "$\n",
    "Where:\n",
    "\\begin{align*}\n",
    "y_i & : \\text{Actual or observed values} \\\\\n",
    "\\hat{y}_i & : \\text{Predicted values} \\\\\n",
    "n & : \\text{Number of data points}\n",
    "\\end{align*}\n",
    "\n",
    "\n",
    "<span style=\"color:blue\">\\(R^2\\) (Coefficient of Determination):</span>\n",
    "The \\(R^2\\) value measures the proportion of the variance in the dependent variable that is explained by the independent variables in a regression model. It ranges between 0 and 1, where 0 indicates that the model does not explain any variance, and 1 indicates that the model explains all the variance. \\(R^2\\) is a relative measure of goodness of fit, showing how well the model fits the data compared to a simple horizontal line (the mean of the dependent variable). Higher \\(R^2\\) values indicate that a larger proportion of the variance in the dependent variable is explained by the model, suggesting a better fit.\n"
   ]
  },
  {
   "cell_type": "code",
   "execution_count": null,
   "id": "6ed35124",
   "metadata": {},
   "outputs": [],
   "source": []
  }
 ],
 "metadata": {
  "kernelspec": {
   "display_name": "Python 3",
   "language": "python",
   "name": "python3"
  },
  "language_info": {
   "codemirror_mode": {
    "name": "ipython",
    "version": 3
   },
   "file_extension": ".py",
   "mimetype": "text/x-python",
   "name": "python",
   "nbconvert_exporter": "python",
   "pygments_lexer": "ipython3",
   "version": "3.8.5"
  }
 },
 "nbformat": 4,
 "nbformat_minor": 5
}
