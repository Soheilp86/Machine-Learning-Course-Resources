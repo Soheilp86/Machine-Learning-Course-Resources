{
 "cells": [
  {
   "cell_type": "markdown",
   "id": "90405c4a",
   "metadata": {},
   "source": [
    "# Perceptrons\n",
    "\n",
    "This lab serves as a step-by-step tutorial for creating a simple feedforward neural network with one layer for a binary image classification. This simple is also referred to as the [perceptron](https://en.wikipedia.org/wiki/Perceptron). You can further enhance it by adding more layers and adjusting hyperparameters."
   ]
  },
  {
   "cell_type": "markdown",
   "id": "6c4160ed",
   "metadata": {},
   "source": [
    "## The MNIST data set\n",
    "\n",
    "In our neural network lectures we will be using the MNIST (Modified National Institute of Standards and Technology) data set, comprising pixelated images of handwritten digits from 0 to 9. Each image consists of grayscale pixels ranging from 0 (no marking) to 255 (darkest marking), measuring handwriting intensity. Originally, it held 60,000 training images and 10,000 test images. More background information on the data set can be found at it's Wikipedia page https://en.wikipedia.org/wiki/MNIST_database. Throughout our neural network lectures, we'll engage with a smaller, lower-resolution `sklearn` version. This sklearn version offers reduced image quality for quicker data loading and algorithm fitting. You can access it using the load_digits function from the datasets module [here](https://scikit-learn.org/stable/modules/generated/sklearn.datasets.load_digits.html).\n",
    "sklearn version\n"
   ]
  },
  {
   "cell_type": "code",
   "execution_count": 1,
   "id": "84464ffd",
   "metadata": {},
   "outputs": [],
   "source": [
    "## For data handling\n",
    "import pandas as pd\n",
    "import numpy as np\n",
    "\n",
    "## For plotting\n",
    "import matplotlib.pyplot as plt\n",
    "from seaborn import set_style\n",
    "\n",
    "## This sets the plot style\n",
    "## to have a grid on a white background\n",
    "set_style(\"whitegrid\")"
   ]
  },
  {
   "cell_type": "code",
   "execution_count": 2,
   "id": "deca1638",
   "metadata": {},
   "outputs": [],
   "source": [
    "from sklearn.datasets import load_digits\n",
    "\n",
    "## Load the dataset and call it digits\n",
    "X,y = load_digits(return_X_y=True)"
   ]
  },
  {
   "cell_type": "markdown",
   "id": "27c56631",
   "metadata": {},
   "source": [
    "Let's dive into our dataset. We can start by figuring out what type each data point is and how many we've got."
   ]
  },
  {
   "cell_type": "code",
   "execution_count": 3,
   "id": "928e3fd1",
   "metadata": {},
   "outputs": [
    {
     "data": {
      "text/plain": [
       "numpy.ndarray"
      ]
     },
     "execution_count": 3,
     "metadata": {},
     "output_type": "execute_result"
    }
   ],
   "source": [
    "## Type of X\n",
    "type(X)"
   ]
  },
  {
   "cell_type": "code",
   "execution_count": 4,
   "id": "d847fcd6",
   "metadata": {},
   "outputs": [
    {
     "data": {
      "text/plain": [
       "1797"
      ]
     },
     "execution_count": 4,
     "metadata": {},
     "output_type": "execute_result"
    }
   ],
   "source": [
    "## Length of X\n",
    "len(X)"
   ]
  },
  {
   "cell_type": "code",
   "execution_count": 5,
   "id": "6cdd4a5f",
   "metadata": {},
   "outputs": [
    {
     "data": {
      "text/plain": [
       "array([ 0.,  0.,  5., 13.,  9.,  1.,  0.,  0.,  0.,  0., 13., 15., 10.,\n",
       "       15.,  5.,  0.,  0.,  3., 15.,  2.,  0., 11.,  8.,  0.,  0.,  4.,\n",
       "       12.,  0.,  0.,  8.,  8.,  0.,  0.,  5.,  8.,  0.,  0.,  9.,  8.,\n",
       "        0.,  0.,  4., 11.,  0.,  1., 12.,  7.,  0.,  0.,  2., 14.,  5.,\n",
       "       10., 12.,  0.,  0.,  0.,  0.,  6., 13., 10.,  0.,  0.,  0.])"
      ]
     },
     "execution_count": 5,
     "metadata": {},
     "output_type": "execute_result"
    }
   ],
   "source": [
    "## lets what is the first element in the array\n",
    "X[0]"
   ]
  },
  {
   "cell_type": "markdown",
   "id": "b91c5b0e",
   "metadata": {},
   "source": [
    "This is our first image represented as pixel matrix. How many pixels does it have?"
   ]
  },
  {
   "cell_type": "code",
   "execution_count": 6,
   "id": "ee4e1dae",
   "metadata": {},
   "outputs": [
    {
     "data": {
      "text/plain": [
       "64"
      ]
     },
     "execution_count": 6,
     "metadata": {},
     "output_type": "execute_result"
    }
   ],
   "source": [
    "len(X[0,:])"
   ]
  },
  {
   "cell_type": "markdown",
   "id": "501021eb",
   "metadata": {},
   "source": [
    "From this we can see that the data contains  1,797,  $8\\times8$ images. \n",
    "Lets visualize them."
   ]
  },
  {
   "cell_type": "code",
   "execution_count": 7,
   "id": "49182092",
   "metadata": {},
   "outputs": [
    {
     "data": {
      "text/plain": [
       "0"
      ]
     },
     "execution_count": 7,
     "metadata": {},
     "output_type": "execute_result"
    }
   ],
   "source": [
    "# What digit does X[0] represent?\n",
    "y[0]"
   ]
  },
  {
   "cell_type": "code",
   "execution_count": 8,
   "id": "a7532f51",
   "metadata": {},
   "outputs": [
    {
     "data": {
      "image/png": "[encoded data removed]",
      "text/plain": [
       "<Figure size 288x288 with 1 Axes>"
      ]
     },
     "metadata": {},
     "output_type": "display_data"
    }
   ],
   "source": [
    "#Let's confirm the previous fact by plotting X[0].\n",
    "plt.matshow(X[0, :].reshape(8, 8))\n",
    "plt.gray()\n",
    "plt.show()"
   ]
  },
  {
   "cell_type": "markdown",
   "id": "8733e2d3",
   "metadata": {},
   "source": [
    "It would be great if we could display this with its associated label."
   ]
  },
  {
   "cell_type": "code",
   "execution_count": 9,
   "id": "95412a2b",
   "metadata": {},
   "outputs": [
    {
     "data": {
      "image/png": "[encoded data removed]",
      "text/plain": [
       "<Figure size 432x720 with 1 Axes>"
      ]
     },
     "metadata": {},
     "output_type": "display_data"
    }
   ],
   "source": [
    "fig, ax = plt.subplots(figsize=(6, 10))  # Creating figure and axes\n",
    "\n",
    "# Displaying the image\n",
    "ax.imshow(X[0, :].reshape(8, 8), cmap='gray_r')\n",
    "\n",
    "# Adding label text\n",
    "ax.text(.1, .3, str(y[0]), fontsize=16)  # Assuming you want to display the label for the first element y[0]\n",
    "\n",
    "plt.show()  # Displaying the plot\n"
   ]
  },
  {
   "cell_type": "markdown",
   "id": "5c244424",
   "metadata": {},
   "source": [
    "Could you remove the axes? Create subplots for the first six images."
   ]
  },
  {
   "cell_type": "code",
   "execution_count": 10,
   "id": "f0be8653",
   "metadata": {},
   "outputs": [
    {
     "data": {
      "image/png": "[encoded data removed]",
      "text/plain": [
       "<Figure size 432x720 with 6 Axes>"
      ]
     },
     "metadata": {},
     "output_type": "display_data"
    }
   ],
   "source": [
    "## plot the first 6 images together without \n",
    "\n",
    "# Creating subplots with a 3x2 grid and defining figure size\n",
    "fig, ax = plt.subplots(3, 2, figsize=(6, 10))\n",
    "\n",
    "# Iterating through the subplots\n",
    "for i in range(6):\n",
    "    # Displaying images and associated labels\n",
    "    ax[i // 2, i % 2].imshow(X[i, :].reshape(8, 8), cmap='gray_r')  # Displaying the image\n",
    "    ax[i // 2, i % 2].text(.1, .3, str(y[i]), fontsize=16)  # Adding label text\n",
    "\n",
    "# Displaying the plot\n",
    "plt.show()\n"
   ]
  },
  {
   "cell_type": "code",
   "execution_count": 64,
   "id": "157a1e9b",
   "metadata": {},
   "outputs": [],
   "source": [
    "# Split the data into training and testing sets\n",
    "from sklearn.model_selection import train_test_split\n",
    "X_train, X_test, y_train, y_test = train_test_split(X, y, test_size=0.2, random_state=42)"
   ]
  },
  {
   "cell_type": "code",
   "execution_count": 95,
   "id": "bda85098",
   "metadata": {},
   "outputs": [],
   "source": [
    "# Convert labels to binary classification: 1 if the digit is 0, else 0\n",
    "y_train_binary = np.where(y_train < 6, 1, 0)\n",
    "y_test_binary = np.where(y_test < 6, 1, 0)"
   ]
  },
  {
   "cell_type": "code",
   "execution_count": 96,
   "id": "8a9f5c11",
   "metadata": {},
   "outputs": [
    {
     "data": {
      "text/plain": [
       "array([0, 0, 1, 0, 1, 1, 1, 1, 1, 1, 1, 0, 1, 1, 1, 1, 1, 0, 0, 0, 1, 1,\n",
       "       0, 0, 1, 0, 1, 1, 0, 1, 1, 0, 1, 1, 1, 0, 0, 1, 0, 0, 0, 0, 1, 1,\n",
       "       0, 1, 1, 1, 0, 1, 1, 1, 0, 1, 0, 1, 0, 1, 1, 1, 1, 1, 1, 1, 1, 1,\n",
       "       0, 1, 0, 1, 0, 1, 1, 1, 0, 1, 1, 1, 1, 0, 0, 1, 1, 1, 0, 1, 0, 1,\n",
       "       1, 0, 1, 1, 0, 1, 1, 1, 0, 1, 1, 1, 1, 1, 1, 1, 1, 1, 1, 0, 1, 1,\n",
       "       0, 0, 1, 1, 1, 0, 1, 0, 0, 0, 1, 0, 0, 1, 1, 0, 1, 0, 1, 0, 0, 1,\n",
       "       0, 0, 1, 0, 0, 1, 1, 0, 1, 0, 1, 0, 0, 0, 0, 0, 1, 1, 1, 0, 0, 1,\n",
       "       0, 1, 1, 0, 1, 0, 0, 1, 0, 1, 1, 1, 1, 0, 1, 0, 0, 0, 1, 1, 1, 1,\n",
       "       0, 0, 1, 1, 1, 0, 0, 1, 1, 1, 1, 1, 0, 0, 0, 1, 1, 1, 1, 1, 1, 0,\n",
       "       1, 0, 1, 0, 1, 0, 0, 0, 1, 0, 1, 1, 1, 1, 0, 0, 1, 0, 0, 1, 1, 1,\n",
       "       1, 0, 1, 0, 1, 1, 0, 1, 1, 1, 1, 0, 0, 1, 1, 1, 1, 0, 0, 0, 0, 1,\n",
       "       1, 1, 0, 1, 0, 0, 0, 0, 0, 0, 1, 1, 1, 1, 1, 0, 0, 1, 0, 1, 0, 0,\n",
       "       0, 1, 1, 1, 1, 1, 1, 1, 1, 0, 1, 1, 1, 1, 1, 1, 0, 1, 0, 0, 1, 1,\n",
       "       1, 0, 0, 0, 1, 1, 1, 1, 1, 1, 0, 1, 1, 1, 1, 1, 0, 1, 1, 1, 1, 1,\n",
       "       1, 1, 1, 1, 1, 1, 1, 1, 0, 1, 1, 1, 1, 1, 1, 0, 0, 1, 0, 1, 0, 0,\n",
       "       1, 1, 0, 1, 1, 0, 0, 0, 0, 1, 1, 0, 1, 1, 0, 0, 0, 0, 1, 1, 0, 0,\n",
       "       1, 0, 0, 1, 1, 0, 1, 1])"
      ]
     },
     "execution_count": 96,
     "metadata": {},
     "output_type": "execute_result"
    }
   ],
   "source": [
    "y_test_binary"
   ]
  },
  {
   "cell_type": "markdown",
   "id": "47b6ba99",
   "metadata": {},
   "source": [
    "## A Perceptron For Binary Classification\n",
    "\n",
    "Our objective is to design a single-layer feedforward deep learning model $F(x) = Relu( Ax + b )$ that receives an image $x$ from the MNIST dataset and determines whether it represents the digit zero or not. \n",
    "\n",
    "\n",
    "__Step 1__ Start with initializing parameters: weights (A) and bias (b) \n"
   ]
  },
  {
   "cell_type": "code",
   "execution_count": 97,
   "id": "ef8a4015",
   "metadata": {},
   "outputs": [],
   "source": [
    "import numpy as np\n",
    "\n",
    "def initialize_parameters(input_size, output_size):\n",
    "    weights = np.random.randn(input_size, output_size)\n",
    "    bias = np.random.rand(1, output_size)\n",
    "    return weights, bias"
   ]
  },
  {
   "cell_type": "markdown",
   "id": "7e0cd817",
   "metadata": {},
   "source": [
    "__Step 2:__ Define the ReLu function. Recall that $Relu(x) = max(x,0)$"
   ]
  },
  {
   "cell_type": "code",
   "execution_count": 98,
   "id": "5f6629ff",
   "metadata": {},
   "outputs": [],
   "source": [
    "def relu(x):\n",
    "    return np.maximum(0, x)"
   ]
  },
  {
   "cell_type": "markdown",
   "id": "4b076d8f",
   "metadata": {},
   "source": [
    "__Step 3__ Now its time to define our $F$"
   ]
  },
  {
   "cell_type": "code",
   "execution_count": 99,
   "id": "1d693995",
   "metadata": {},
   "outputs": [],
   "source": [
    "def forward_propagation(x, weights, bias):\n",
    "    z = np.dot(x, weights) + bias\n",
    "    return relu(z)"
   ]
  },
  {
   "cell_type": "markdown",
   "id": "8716ece6",
   "metadata": {},
   "source": [
    "__Step 4__  So now it's time _train_ our model. That is to iterates through the training dataset, adjusting the weights and bias in each iteration to improve the network's performance in predicting the output based on the given inputs. One complete cycle through the entire training dataset is called _epoch_ (the entire training dataset will be passed forward and backward through the neural network).\n",
    "\n",
    "Define a function with the following variables: an image: `x`, its coresponding label: `y`, `weights`: $A$  and `bias`: $b$, the number of epoch: `epochs`, and the learning rate: `learning_rate`. \n",
    "\n",
    "Your function should iterates through the dataset for the specified number of epochs, adjusting the weights and bias in each iteration to improve the network's performance in predicting the output based on the given inputs.\n"
   ]
  },
  {
   "cell_type": "code",
   "execution_count": 100,
   "id": "8f156c9b",
   "metadata": {},
   "outputs": [],
   "source": [
    "def train_neural_network(x, y, weights, bias, epochs, learning_rate):\n",
    "    for epoch in range(epochs):\n",
    "        # Forward propagation\n",
    "        output = forward_propagation(x, weights, bias)\n",
    "        \n",
    "        # Calculate the loss\n",
    "        error = output - y\n",
    "        loss = np.mean(error ** 2)\n",
    "        \n",
    "        # Backpropagation\n",
    "        # Chain rule to compute gradients\n",
    "        grad_output = 2 * error / len(x) #gradient of loss with respect to output\n",
    "        grad_weights = np.dot(x.T, grad_output) #gradient of loss with respect to weights by chain rule \n",
    "        grad_bias = np.sum(grad_output, axis=0, keepdims=True) #gradient of loss with respect to bias by chain rule \n",
    "        \n",
    "        # Update weights and bias\n",
    "        weights -= learning_rate * grad_weights\n",
    "        bias -= learning_rate * grad_bias\n",
    "        \n",
    "        # Print the loss\n",
    "        if epoch % 100 == 0:\n",
    "            print(f'Epoch {epoch}: Loss {loss}')\n",
    "    return weights, bias"
   ]
  },
  {
   "cell_type": "code",
   "execution_count": 101,
   "id": "8f008a6f",
   "metadata": {},
   "outputs": [
    {
     "name": "stdout",
     "output_type": "stream",
     "text": [
      "Epoch 0: Loss 1499.1422426663948\n",
      "Epoch 100: Loss 0.5998608211551845\n",
      "Epoch 200: Loss 0.5998608211551845\n",
      "Epoch 300: Loss 0.5998608211551845\n",
      "Epoch 400: Loss 0.5998608211551845\n",
      "Epoch 500: Loss 0.5998608211551845\n",
      "Epoch 600: Loss 0.5998608211551845\n",
      "Epoch 700: Loss 0.5998608211551845\n",
      "Epoch 800: Loss 0.5998608211551845\n",
      "Epoch 900: Loss 0.5998608211551845\n",
      "Epoch 1000: Loss 0.5998608211551845\n"
     ]
    }
   ],
   "source": [
    "# Initialize parameters\n",
    "\n",
    "input_size = X_train.shape[1] # input size should be the size of each image 8x8\n",
    "output_size = 1 # input size should be the size of lable of each image 8x8\n",
    "\n",
    "weights, bias = initialize_parameters(input_size, output_size)\n",
    "\n",
    "# Reshape the target arrays to match the expected shapes\n",
    "y_train_binary = y_train_binary.reshape(-1, 1)\n",
    "y_test_binary = y_test_binary.reshape(-1, 1)\n",
    "\n",
    "# Train the neural network\n",
    "W , b = train_neural_network(X_train, y_train_binary, weights, bias, epochs=1100, learning_rate=0.01)\n"
   ]
  },
  {
   "cell_type": "code",
   "execution_count": 102,
   "id": "02812e00",
   "metadata": {},
   "outputs": [
    {
     "name": "stdout",
     "output_type": "stream",
     "text": [
      "Test accuracy: 38.61%\n"
     ]
    }
   ],
   "source": [
    "# Predict using the trained model\n",
    "predictions = forward_propagation(X_test, W, b)\n",
    "predicted_labels = np.where(predictions >= 0.5, 1, 0)\n",
    "\n",
    "# Calculate accuracy\n",
    "accuracy = np.mean(predicted_labels == y_test_binary)\n",
    "print(f'Test accuracy: {accuracy * 100:.2f}%')\n"
   ]
  },
  {
   "cell_type": "code",
   "execution_count": 103,
   "id": "64c652fa",
   "metadata": {},
   "outputs": [
    {
     "data": {
      "text/plain": [
       "array([[0.],\n",
       "       [0.],\n",
       "       [0.],\n",
       "       [0.],\n",
       "       [0.],\n",
       "       [0.],\n",
       "       [0.],\n",
       "       [0.],\n",
       "       [0.],\n",
       "       [0.],\n",
       "       [0.],\n",
       "       [0.],\n",
       "       [0.],\n",
       "       [0.],\n",
       "       [0.],\n",
       "       [0.],\n",
       "       [0.],\n",
       "       [0.],\n",
       "       [0.],\n",
       "       [0.],\n",
       "       [0.],\n",
       "       [0.],\n",
       "       [0.],\n",
       "       [0.],\n",
       "       [0.],\n",
       "       [0.],\n",
       "       [0.],\n",
       "       [0.],\n",
       "       [0.],\n",
       "       [0.],\n",
       "       [0.],\n",
       "       [0.],\n",
       "       [0.],\n",
       "       [0.],\n",
       "       [0.],\n",
       "       [0.],\n",
       "       [0.],\n",
       "       [0.],\n",
       "       [0.],\n",
       "       [0.],\n",
       "       [0.],\n",
       "       [0.],\n",
       "       [0.],\n",
       "       [0.],\n",
       "       [0.],\n",
       "       [0.],\n",
       "       [0.],\n",
       "       [0.],\n",
       "       [0.],\n",
       "       [0.],\n",
       "       [0.],\n",
       "       [0.],\n",
       "       [0.],\n",
       "       [0.],\n",
       "       [0.],\n",
       "       [0.],\n",
       "       [0.],\n",
       "       [0.],\n",
       "       [0.],\n",
       "       [0.],\n",
       "       [0.],\n",
       "       [0.],\n",
       "       [0.],\n",
       "       [0.],\n",
       "       [0.],\n",
       "       [0.],\n",
       "       [0.],\n",
       "       [0.],\n",
       "       [0.],\n",
       "       [0.],\n",
       "       [0.],\n",
       "       [0.],\n",
       "       [0.],\n",
       "       [0.],\n",
       "       [0.],\n",
       "       [0.],\n",
       "       [0.],\n",
       "       [0.],\n",
       "       [0.],\n",
       "       [0.],\n",
       "       [0.],\n",
       "       [0.],\n",
       "       [0.],\n",
       "       [0.],\n",
       "       [0.],\n",
       "       [0.],\n",
       "       [0.],\n",
       "       [0.],\n",
       "       [0.],\n",
       "       [0.],\n",
       "       [0.],\n",
       "       [0.],\n",
       "       [0.],\n",
       "       [0.],\n",
       "       [0.],\n",
       "       [0.],\n",
       "       [0.],\n",
       "       [0.],\n",
       "       [0.],\n",
       "       [0.],\n",
       "       [0.],\n",
       "       [0.],\n",
       "       [0.],\n",
       "       [0.],\n",
       "       [0.],\n",
       "       [0.],\n",
       "       [0.],\n",
       "       [0.],\n",
       "       [0.],\n",
       "       [0.],\n",
       "       [0.],\n",
       "       [0.],\n",
       "       [0.],\n",
       "       [0.],\n",
       "       [0.],\n",
       "       [0.],\n",
       "       [0.],\n",
       "       [0.],\n",
       "       [0.],\n",
       "       [0.],\n",
       "       [0.],\n",
       "       [0.],\n",
       "       [0.],\n",
       "       [0.],\n",
       "       [0.],\n",
       "       [0.],\n",
       "       [0.],\n",
       "       [0.],\n",
       "       [0.],\n",
       "       [0.],\n",
       "       [0.],\n",
       "       [0.],\n",
       "       [0.],\n",
       "       [0.],\n",
       "       [0.],\n",
       "       [0.],\n",
       "       [0.],\n",
       "       [0.],\n",
       "       [0.],\n",
       "       [0.],\n",
       "       [0.],\n",
       "       [0.],\n",
       "       [0.],\n",
       "       [0.],\n",
       "       [0.],\n",
       "       [0.],\n",
       "       [0.],\n",
       "       [0.],\n",
       "       [0.],\n",
       "       [0.],\n",
       "       [0.],\n",
       "       [0.],\n",
       "       [0.],\n",
       "       [0.],\n",
       "       [0.],\n",
       "       [0.],\n",
       "       [0.],\n",
       "       [0.],\n",
       "       [0.],\n",
       "       [0.],\n",
       "       [0.],\n",
       "       [0.],\n",
       "       [0.],\n",
       "       [0.],\n",
       "       [0.],\n",
       "       [0.],\n",
       "       [0.],\n",
       "       [0.],\n",
       "       [0.],\n",
       "       [0.],\n",
       "       [0.],\n",
       "       [0.],\n",
       "       [0.],\n",
       "       [0.],\n",
       "       [0.],\n",
       "       [0.],\n",
       "       [0.],\n",
       "       [0.],\n",
       "       [0.],\n",
       "       [0.],\n",
       "       [0.],\n",
       "       [0.],\n",
       "       [0.],\n",
       "       [0.],\n",
       "       [0.],\n",
       "       [0.],\n",
       "       [0.],\n",
       "       [0.],\n",
       "       [0.],\n",
       "       [0.],\n",
       "       [0.],\n",
       "       [0.],\n",
       "       [0.],\n",
       "       [0.],\n",
       "       [0.],\n",
       "       [0.],\n",
       "       [0.],\n",
       "       [0.],\n",
       "       [0.],\n",
       "       [0.],\n",
       "       [0.],\n",
       "       [0.],\n",
       "       [0.],\n",
       "       [0.],\n",
       "       [0.],\n",
       "       [0.],\n",
       "       [0.],\n",
       "       [0.],\n",
       "       [0.],\n",
       "       [0.],\n",
       "       [0.],\n",
       "       [0.],\n",
       "       [0.],\n",
       "       [0.],\n",
       "       [0.],\n",
       "       [0.],\n",
       "       [0.],\n",
       "       [0.],\n",
       "       [0.],\n",
       "       [0.],\n",
       "       [0.],\n",
       "       [0.],\n",
       "       [0.],\n",
       "       [0.],\n",
       "       [0.],\n",
       "       [0.],\n",
       "       [0.],\n",
       "       [0.],\n",
       "       [0.],\n",
       "       [0.],\n",
       "       [0.],\n",
       "       [0.],\n",
       "       [0.],\n",
       "       [0.],\n",
       "       [0.],\n",
       "       [0.],\n",
       "       [0.],\n",
       "       [0.],\n",
       "       [0.],\n",
       "       [0.],\n",
       "       [0.],\n",
       "       [0.],\n",
       "       [0.],\n",
       "       [0.],\n",
       "       [0.],\n",
       "       [0.],\n",
       "       [0.],\n",
       "       [0.],\n",
       "       [0.],\n",
       "       [0.],\n",
       "       [0.],\n",
       "       [0.],\n",
       "       [0.],\n",
       "       [0.],\n",
       "       [0.],\n",
       "       [0.],\n",
       "       [0.],\n",
       "       [0.],\n",
       "       [0.],\n",
       "       [0.],\n",
       "       [0.],\n",
       "       [0.],\n",
       "       [0.],\n",
       "       [0.],\n",
       "       [0.],\n",
       "       [0.],\n",
       "       [0.],\n",
       "       [0.],\n",
       "       [0.],\n",
       "       [0.],\n",
       "       [0.],\n",
       "       [0.],\n",
       "       [0.],\n",
       "       [0.],\n",
       "       [0.],\n",
       "       [0.],\n",
       "       [0.],\n",
       "       [0.],\n",
       "       [0.],\n",
       "       [0.],\n",
       "       [0.],\n",
       "       [0.],\n",
       "       [0.],\n",
       "       [0.],\n",
       "       [0.],\n",
       "       [0.],\n",
       "       [0.],\n",
       "       [0.],\n",
       "       [0.],\n",
       "       [0.],\n",
       "       [0.],\n",
       "       [0.],\n",
       "       [0.],\n",
       "       [0.],\n",
       "       [0.],\n",
       "       [0.],\n",
       "       [0.],\n",
       "       [0.],\n",
       "       [0.],\n",
       "       [0.],\n",
       "       [0.],\n",
       "       [0.],\n",
       "       [0.],\n",
       "       [0.],\n",
       "       [0.],\n",
       "       [0.],\n",
       "       [0.],\n",
       "       [0.],\n",
       "       [0.],\n",
       "       [0.],\n",
       "       [0.],\n",
       "       [0.],\n",
       "       [0.],\n",
       "       [0.],\n",
       "       [0.],\n",
       "       [0.],\n",
       "       [0.],\n",
       "       [0.],\n",
       "       [0.],\n",
       "       [0.],\n",
       "       [0.],\n",
       "       [0.],\n",
       "       [0.],\n",
       "       [0.],\n",
       "       [0.],\n",
       "       [0.],\n",
       "       [0.],\n",
       "       [0.],\n",
       "       [0.],\n",
       "       [0.],\n",
       "       [0.],\n",
       "       [0.],\n",
       "       [0.],\n",
       "       [0.],\n",
       "       [0.],\n",
       "       [0.],\n",
       "       [0.],\n",
       "       [0.],\n",
       "       [0.],\n",
       "       [0.],\n",
       "       [0.],\n",
       "       [0.],\n",
       "       [0.],\n",
       "       [0.],\n",
       "       [0.],\n",
       "       [0.],\n",
       "       [0.],\n",
       "       [0.],\n",
       "       [0.],\n",
       "       [0.],\n",
       "       [0.],\n",
       "       [0.],\n",
       "       [0.],\n",
       "       [0.],\n",
       "       [0.],\n",
       "       [0.],\n",
       "       [0.],\n",
       "       [0.],\n",
       "       [0.],\n",
       "       [0.]])"
      ]
     },
     "execution_count": 103,
     "metadata": {},
     "output_type": "execute_result"
    }
   ],
   "source": [
    "predictions"
   ]
  },
  {
   "cell_type": "code",
   "execution_count": 104,
   "id": "9cc14e69",
   "metadata": {},
   "outputs": [
    {
     "name": "stdout",
     "output_type": "stream",
     "text": [
      "Predicted Label: 0\n",
      "Actual Label: [1]\n"
     ]
    }
   ],
   "source": [
    "# Choose a random example from the test set\n",
    "index = np.random.randint(0, len(X_test))\n",
    "image = X_test[index]\n",
    "label = y_test_binary[index]\n",
    "# Reshape the example image to match the input size of the network\n",
    "image = image.reshape(1, -1)\n",
    "\n",
    "# Use the trained model to predict on this example\n",
    "prediction = forward_propagation(image, W, b)\n",
    "predicted_label = 1 if prediction >= 0.5 else 0\n",
    "\n",
    "# Print the prediction and actual label\n",
    "print(f\"Predicted Label: {predicted_label}\")\n",
    "print(f\"Actual Label: {label}\")\n"
   ]
  },
  {
   "cell_type": "markdown",
   "id": "d43c3375",
   "metadata": {},
   "source": [
    "__Discussion:__\n",
    "\n",
    "Q1. Judging by the accuracy, how well is your model performing?\n",
    "\n",
    "_Your Answer:_ Not so good. All predictions are zero\n",
    "\n",
    "Q2. Convert labels to a different binary classification: 1 if the digit is less than 2; otherwise, 0. Then, retrain your model. How well is your model performing?\n",
    "\n",
    "_Your Answer:_ Not good all predictions are zero\n",
    "\n",
    "Q3: Convert labels to a different binary classification: 1 if the digit is less than 5; otherwise, 0. Then, retrain your model. How well is your model performing?\n",
    "\n",
    "_Your Answer:_ Almost all predictions are zero\n",
    "\n"
   ]
  },
  {
   "cell_type": "markdown",
   "id": "459e70b0",
   "metadata": {},
   "source": [
    "__Conclusion:__\n",
    "A single perceptron is not capable of separating data sets that are not linearly separable. This severely hurt interest in the method back in the 1950s and 60s, <a href=\"https://en.wikipedia.org/wiki/Perceptron\">https://en.wikipedia.org/wiki/Perceptron</a>. \n",
    "\n",
    "However, if your data is linearly separable there is a proof that guarantees the perceptron will converge as well as an upper bound on the number of epochs it must endure to get there, see the previous wikipedia link.\n"
   ]
  },
  {
   "cell_type": "code",
   "execution_count": null,
   "id": "2941e833",
   "metadata": {},
   "outputs": [],
   "source": []
  },
  {
   "cell_type": "code",
   "execution_count": null,
   "id": "813933c2",
   "metadata": {},
   "outputs": [],
   "source": []
  }
 ],
 "metadata": {
  "kernelspec": {
   "display_name": "Python 3",
   "language": "python",
   "name": "python3"
  },
  "language_info": {
   "codemirror_mode": {
    "name": "ipython",
    "version": 3
   },
   "file_extension": ".py",
   "mimetype": "text/x-python",
   "name": "python",
   "nbconvert_exporter": "python",
   "pygments_lexer": "ipython3",
   "version": "3.8.5"
  }
 },
 "nbformat": 4,
 "nbformat_minor": 5
}
