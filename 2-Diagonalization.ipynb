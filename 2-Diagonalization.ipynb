{
 "cells": [
  {
   "cell_type": "markdown",
   "id": "c25c2c08",
   "metadata": {},
   "source": [
    "# Matrix Factorization (Diagonalization)\n",
    "\n",
    "Matrix decomposition, AKA matrix factorization plays a fundamental role in preprocessing and feature engineering, which are critical steps in building effective machine learning models. It helps extract meaningful information, reduce noise, and evem improve the performance and interpretability of machine learning algorithms.\n",
    "\n",
    "As discussed in class, there are five important decomposition which we will cover all."
   ]
  },
  {
   "cell_type": "markdown",
   "id": "69af6766",
   "metadata": {},
   "source": [
    "## Diagonalization"
   ]
  },
  {
   "cell_type": "markdown",
   "id": "33d3e750",
   "metadata": {},
   "source": [
    "An $n \\times n$ matrix $A$ is called __diagonalizable__ if it is _similar_ to a diagonal matrix. More precisely, there exists an invertible $n \\times n$ matrix $P$ and an $n \\times n$ diagonal matrix $D$ such that $A = PDP^{-1}$.\n",
    "\n",
    "It turns out an $n\\times n$ matrix is diagonalizable if we can form a basis $\\mathbb{R}^n$ using eigenvectors of $A$:\n",
    "\n",
    "__Theorem 1__\n",
    "\n",
    "An $n \\times n$ matrix $A$ is diagonalizable if and only if $A$ has $n$ linearly independent eigenvectors.\n",
    "\n",
    "\n",
    "In fact, suppose $\\lambda_1, \\lambda_2, \\dots, \\lambda_n$ are eigenvalues of $A$, and $\\{\\vec{v_1}, \\vec{v}_2, \\dots, \\vec{v}_n\\}$ is the linearly independent set of eigenvectors of $A$. If we form the matrix $P$ by taking the eigenvectors as columns, and $D$ is a diagonal matrix with eigenvalues $\\lambda_1, \\lambda_2, \\dots, \\lambda_n$ on the diagonal, then we have $A = PDP^{-1}$.\n",
    "\n",
    "\n",
    "Finding eigenvectors in general is not an easy task, and is not clear how to check which $n \\times n$ matrices have $n$ linearly independent eigenvectors. The next theorem partially addresses this issue.\n",
    "\n",
    "\n",
    "__Theorem 2__\n",
    "\n",
    "The eigenvectors corresponding to distinct eigenvalues are linearly independent.\n",
    "\n",
    "Combining Theorem 1 and Theorem 2, we obtain the following corollary:\n",
    "\n",
    "__Corollary 1__\n",
    "\n",
    "An $n \\times n$ matrix with $n$ distinct eigenvalues is diagonalizable.\n",
    "\n",
    "\n",
    "\n",
    "__Example 1__  Is\n",
    "$\n",
    "A = \\begin{bmatrix} 1 & 3 & 2 \\\\ -3 & -5 & 3 \\\\ 3 & 3 & 1 \\end{bmatrix}\n",
    "$\n",
    "diagonalizable? If yes find a diagonalization for it. "
   ]
  },
  {
   "cell_type": "code",
   "execution_count": 21,
   "id": "5c3b177e",
   "metadata": {},
   "outputs": [],
   "source": [
    "# you code"
   ]
  },
  {
   "cell_type": "markdown",
   "id": "862e7892",
   "metadata": {},
   "source": [
    "### Diagonalization as a change of basis "
   ]
  },
  {
   "cell_type": "markdown",
   "id": "06654bc7",
   "metadata": {},
   "source": [
    "Recall that similar matrices represent the same linear map under two different choices of a pair of bases for $\\mathbb{R}^n$ and $\\mathbb{R}^m$. More precisely, suppose $A = PCP^{-1}$ ($C$ is not necessarily diagonal), then the matrix representation of $T$ with respect to the basis $B$ (formed by the columns of $P$) is $C$. Conversely, changing the basis of $\\mathbb{R}^n$ leads to a matrix representation of $T$ that is similar to $A$ (section 3.4). This particularly applies to diagonalizable matrices because a matrix is diagonalizable if it is similar to a diagonal matrix.\n",
    "\n",
    "__Theorem 2__ (Diagonal Matrix Representation)\n",
    "\n",
    "Suppose $T: \\mathbb{R}^n \\to \\mathbb{R}^n$ and $A$ is the standard matrix representation of $T$ that is diagonalizable. Let $A = PDP^{-1}$ be a diagonalization of $A$ where $D$ is an $n\\times n$ diagonal matrix, and $P$ is an invertible $n\\times n$ matrix. If $B$ is the basis for $\\mathbb{R}^n$ formed by the columns of $P$, then $D$ is the matrix representation of the transformation $T: (\\mathbb{R}^n, B) \\to (\\mathbb{R}^n, B)$.\n",
    "\n",
    "__Example 3__ Let $T: \\mathbb{R}^2 \\to \\mathbb{R}^2$ and $A = \\begin{bmatrix} 7 & 2 \\\\ -4 & 2 \\end{bmatrix}$ be the standard matrix representation of $T$. Find a basis $B$ for $T$ such that the matrix representation of $T$ with respect to $B$ is diagonal.\n",
    "\n",
    "__Solution:__\n",
    "\n",
    "From Example 1, we know that $A = PAP^{-1}$ where $P = \\begin{bmatrix} 1 & 1 \\\\ -1 & -2 \\end{bmatrix}$ and $D = \\begin{bmatrix} 5 & 0 \\\\ 0 & 3 \\end{bmatrix}$.\n",
    "\n",
    "The columns of $P$ are eigenvectors of $A$, and they form a basis $B$ for $\\mathbb{R}^2$. By Theorem 2, $D$ is the matrix representation of $T$ with respect to $B$. In fact, the mappings $\\vec{x} \\to A\\vec{x}$ and $\\vec{x} \\to D\\vec{x}$ describe the same linear transformation, relative to different bases.\n"
   ]
  },
  {
   "cell_type": "markdown",
   "id": "95dc0997",
   "metadata": {},
   "source": [
    "Excercises\n",
    "\n",
    "1. Suppose $C=\\begin{bmatrix}\n",
    "3 & 0 & 1 & 0 & 0\\\\\n",
    "0 & 3 & 0 & 0 & 0\\\\\n",
    "0 & 0 & 3 & 0 & 0\\\\\n",
    "0 & 0 & 3 & 2 & 0\\\\\n",
    "0 & 0 & 0 & 0 & 2\n",
    "\\end{bmatrix}$. Is $C$ diagonalizable?\n",
    "\n",
    "\n",
    "2. Let $A$ be a $5\\times 5$ matrix, with two eigenvalues. One eigenspace is three-dimensional, the other is two dimensional. Is $A$ diagonalizable?\n",
    "\n",
    "\n",
    "3. Compute $A^{200}$ where $A = \\begin{bmatrix} 4 & -3\\\\ 2 & -1 \\end{bmatrix}$. \n"
   ]
  },
  {
   "cell_type": "markdown",
   "id": "fdef7e33",
   "metadata": {},
   "source": [
    "# References:\n",
    "\n",
    "1. S. Anbouhi Python for linear Algebra\". Available at: https://timothyprojectgig.github.io/JB_Math_Textbook/Undergrad/Linear/0.html\n",
    "\n",
    "2. G. Strang, \"Linear Algebra and Learning from Data,\" 2019.\n",
    "\n",
    "3. J. Foster, \"Numerical Methods\". Available at: https://johnfoster.pge.utexas.edu/numerical-methods-book/PythonIntro"
   ]
  },
  {
   "cell_type": "code",
   "execution_count": null,
   "id": "89e74821",
   "metadata": {},
   "outputs": [],
   "source": []
  }
 ],
 "metadata": {
  "kernelspec": {
   "display_name": "Python 3",
   "language": "python",
   "name": "python3"
  },
  "language_info": {
   "codemirror_mode": {
    "name": "ipython",
    "version": 3
   },
   "file_extension": ".py",
   "mimetype": "text/x-python",
   "name": "python",
   "nbconvert_exporter": "python",
   "pygments_lexer": "ipython3",
   "version": "3.8.5"
  }
 },
 "nbformat": 4,
 "nbformat_minor": 5
}
